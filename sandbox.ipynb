{
 "cells": [
  {
   "cell_type": "raw",
   "metadata": {},
   "source": [
    "import sys\n",
    "!conda install --yes --prefix {sys.prefix} mkl-devel"
   ]
  },
  {
   "cell_type": "raw",
   "metadata": {},
   "source": [
    "# Install a pip package in the current Jupyter kernel\n",
    "import sys\n",
    "!{sys.executable} -m pip install primme"
   ]
  },
  {
   "cell_type": "code",
   "execution_count": 1,
   "metadata": {},
   "outputs": [],
   "source": [
    "#adding pydecomp \n",
    "%load_ext autoreload\n",
    "%autoreload 2\n",
    "import sys\n",
    "sys.path.insert(0, \"/home/lestandi/Documents/thesis_light/prog/python/python_decomposition_library/pydecomp/\")\n",
    "sys.path.insert(0, \"/home/lestandi/Documents/thesis_light/prog/python/python_decomposition_library/pydecomp/core/\")\n",
    "sys.path.insert(0, \"/home/lestandi/Documents/thesis_light/prog/python/python_decomposition_library/pydecomp/utils/\")\n",
    "sys.path.insert(0, \"/home/lestandi/Documents/thesis_light/prog/python/python_decomposition_library/pydecomp/analysis/\")\n",
    "sys.path.insert(0, \"/home/lestandi/Documents/thesis_light/prog/python/python_decomposition_library/pydecomp/\")"
   ]
  },
  {
   "cell_type": "code",
   "execution_count": 2,
   "metadata": {},
   "outputs": [],
   "source": [
    "from pydecomp.core.TSVD import TSVD\n",
    "import numpy as np"
   ]
  },
  {
   "cell_type": "code",
   "execution_count": 3,
   "metadata": {},
   "outputs": [
    {
     "name": "stdout",
     "output_type": "stream",
     "text": [
      "\n",
      " Testing SVD with random matrix\n",
      "\n",
      "\n",
      " --------------SVD by EVD computing time {} 0.10413932800292969\n",
      "r=5\n",
      "sigma[:5]= [[1118.26018321]\n",
      " [  35.26072746]\n",
      " [  35.14429884]\n",
      " [  35.0374459 ]\n",
      " [  35.00972335]]\n",
      "\n",
      " Should be small : 641.0968003206452\n",
      "Selected PRIMME_SVDS solver. This solver is iterative and best               suited for sparse tall skinny matrices. High accuracy requirement               may lead to intractable CPU times.\n",
      "\n",
      " --------------PRIMME_SVDs computing time {} 0.7990212440490723\n",
      "r=5\n",
      "sigma[:5]= [[1118.26018321]\n",
      " [  35.26072745]\n",
      " [  35.14429883]\n",
      " [  35.03744575]\n",
      " [  35.00972313]]\n",
      "\n",
      " Should be small : 641.0968003422727\n"
     ]
    }
   ],
   "source": [
    "    #test procedure for the standard numpy matrix SVD\n",
    "    from time import time\n",
    "    print(\"\\n Testing SVD with random matrix\\n\")\n",
    "    n,m=10000,500\n",
    "    F=np.random.rand(n,m)\n",
    "    # F=np.reshape(np.arange(n*m),(n,m))\n",
    "\n",
    "    t=time()\n",
    "    phi, sigma, A=TSVD(F,solver='EVD',rank=5)\n",
    "    print('\\n --------------SVD by EVD computing time {}',time()-t)\n",
    "    # print(\"\\nEVD\\n----------- \\nphi :\\n {}\\n sigma:\\n {} \\n A:\\n {}\".format(phi, sigma, A))\n",
    "    r=sigma.size\n",
    "    sigma=np.reshape(sigma,[r,1])\n",
    "    F_approx = phi@(sigma*A.T)\n",
    "    err=np.linalg.norm(F_approx-F)\n",
    "    print(\"r={}\".format(r))\n",
    "    print(\"sigma[:5]=\",sigma[0:5])\n",
    "    print(\"\\n Should be small : {}\".format(err))    \n",
    "    \n",
    "    t=time()\n",
    "    phi, sigma, A=TSVD(F,solver='PRIMME',rank=5,epsilon=1e-6)\n",
    "    print('\\n --------------PRIMME_SVDs computing time {}',time()-t)\n",
    "    # print(\"\\nEVD\\n----------- \\nphi :\\n {}\\n sigma:\\n {} \\n A:\\n {}\".format(phi, sigma, A))\n",
    "    r=sigma.size\n",
    "    sigma=np.reshape(sigma,[r,1])\n",
    "    F_approx = phi@(sigma*A.T)\n",
    "    err=np.linalg.norm(F_approx-F)\n",
    "    print(\"r={}\".format(r))\n",
    "    print(\"sigma[:5]=\",sigma[0:5])\n",
    "    print(\"\\n Should be small : {}\".format(err))"
   ]
  },
  {
   "cell_type": "code",
   "execution_count": 4,
   "metadata": {},
   "outputs": [
    {
     "name": "stdout",
     "output_type": "stream",
     "text": [
      "[1118.26018321   35.26072746   35.14429884   35.0374459    35.00972335]\n",
      "1.7337520122528076 555\n"
     ]
    }
   ],
   "source": [
    "import scipy\n",
    "import primme\n",
    "# Sparse random rectangular matrix 10^5x100\n",
    "#A = scipy.sparse.rand(100000, 100, density=1., random_state=10)\n",
    "#print(A.size)\n",
    "# Compute the three closest singular values to 6.0 with a tolerance of 1e-6\n",
    "svecs_left, svals, svecs_right, stats = primme.svds(F, 5, which='LM',\n",
    "                                                    return_stats=True)\n",
    "A_svals = svals\n",
    "print(svals)\n",
    "print(stats[\"elapsedTime\"], stats[\"numMatvecs\"])"
   ]
  },
  {
   "cell_type": "code",
   "execution_count": 5,
   "metadata": {},
   "outputs": [
    {
     "data": {
      "text/plain": [
       "array([ 8.13312246e-16, -2.43447755e-10, -3.49641108e-10, -4.39244237e-09,\n",
       "       -6.31406643e-09])"
      ]
     },
     "execution_count": 5,
     "metadata": {},
     "output_type": "execute_result"
    }
   ],
   "source": [
    "(sigma[:,0]-svals)/sigma[:,0]"
   ]
  },
  {
   "cell_type": "code",
   "execution_count": 6,
   "metadata": {},
   "outputs": [
    {
     "name": "stdout",
     "output_type": "stream",
     "text": [
      "phi orthog test\n",
      "[[ 1.000e+00  4.729e-15 -6.196e-15 -1.191e-15 -1.524e-15]\n",
      " [ 4.729e-15  1.000e+00  1.419e-13  5.159e-14  4.261e-14]\n",
      " [-6.196e-15  1.419e-13  1.000e+00 -6.390e-14  5.758e-14]\n",
      " [-1.191e-15  5.159e-14 -6.390e-14  1.000e+00 -5.952e-14]\n",
      " [-1.524e-15  4.261e-14  5.758e-14 -5.952e-14  1.000e+00]]\n",
      "svecs orthog test\n",
      "[[ 1.000e+00  4.063e-15 -7.689e-15 -1.492e-15  9.828e-15]\n",
      " [ 4.063e-15  1.000e+00 -2.948e-13 -6.607e-14 -1.344e-15]\n",
      " [-7.689e-15 -2.948e-13  1.000e+00 -2.257e-13 -2.894e-14]\n",
      " [-1.492e-15 -6.607e-14 -2.257e-13  1.000e+00  2.666e-14]\n",
      " [ 9.828e-15 -1.344e-15 -2.894e-14  2.666e-14  1.000e+00]]\n",
      "v orthog test\n",
      "[[ 1.000e+00  1.015e-16 -1.509e-16  8.327e-17 -1.787e-16]\n",
      " [ 1.015e-16  1.000e+00  5.716e-16 -3.305e-16 -1.388e-17]\n",
      " [-1.509e-16  5.716e-16  1.000e+00  1.471e-15  4.666e-16]\n",
      " [ 8.327e-17 -3.305e-16  1.471e-15  1.000e+00 -7.199e-16]\n",
      " [-1.787e-16 -1.388e-17  4.666e-16 -7.199e-16  1.000e+00]]\n",
      "svecs orthog test\n",
      "[[ 1.000e+00  8.760e-17  2.411e-16  1.596e-16 -2.082e-17]\n",
      " [ 8.760e-17  1.000e+00  1.254e-15 -1.219e-15  2.082e-17]\n",
      " [ 2.411e-16  1.254e-15  1.000e+00 -3.695e-15  5.872e-16]\n",
      " [ 1.596e-16 -1.219e-15 -3.695e-15  1.000e+00  1.556e-15]\n",
      " [-2.082e-17  2.082e-17  5.872e-16  1.556e-15  1.000e+00]]\n"
     ]
    }
   ],
   "source": [
    "np.set_printoptions(precision=3)\n",
    "print(\"phi orthog test\")\n",
    "print(phi.T@phi)\n",
    "print(\"svecs orthog test\")\n",
    "print(svecs_left.T@svecs_left)\n",
    "\n",
    "print(\"v orthog test\")\n",
    "print(A.T@A)\n",
    "print(\"svecs orthog test\")\n",
    "print(svecs_right@svecs_right.T)"
   ]
  },
  {
   "cell_type": "code",
   "execution_count": 7,
   "metadata": {},
   "outputs": [
    {
     "data": {
      "text/plain": [
       "(128, 64)"
      ]
     },
     "execution_count": 7,
     "metadata": {},
     "output_type": "execute_result"
    }
   ],
   "source": [
    "import math\n",
    "import numpy as np\n",
    "q=2\n",
    "shape=[65,64]\n",
    "size=np.product(shape)\n",
    "D=int(round(math.log( size, q )))\n",
    "new_shape=[q] * D\n",
    "tuple( [ q**(int(math.log(s-0.5,q))+1) for s in shape ] )"
   ]
  },
  {
   "cell_type": "code",
   "execution_count": 8,
   "metadata": {},
   "outputs": [
    {
     "name": "stdout",
     "output_type": "stream",
     "text": [
      "[2, 2, 2, 2, 2, 2, 2, 2, 2, 2, 2, 2]\n"
     ]
    }
   ],
   "source": [
    "print(new_shape)"
   ]
  },
  {
   "cell_type": "code",
   "execution_count": 9,
   "metadata": {},
   "outputs": [],
   "source": [
    "A=np.ones(new_shape)"
   ]
  },
  {
   "cell_type": "code",
   "execution_count": 10,
   "metadata": {},
   "outputs": [],
   "source": [
    "B=np.ones(shape)"
   ]
  },
  {
   "cell_type": "code",
   "execution_count": 11,
   "metadata": {},
   "outputs": [
    {
     "data": {
      "text/plain": [
       "False"
      ]
     },
     "execution_count": 11,
     "metadata": {},
     "output_type": "execute_result"
    }
   ],
   "source": [
    "A.size==B.size"
   ]
  },
  {
   "cell_type": "code",
   "execution_count": 12,
   "metadata": {},
   "outputs": [
    {
     "data": {
      "text/plain": [
       "False"
      ]
     },
     "execution_count": 12,
     "metadata": {},
     "output_type": "execute_result"
    }
   ],
   "source": [
    "(math.log( size, q )).is_integer()"
   ]
  },
  {
   "cell_type": "code",
   "execution_count": null,
   "metadata": {},
   "outputs": [],
   "source": []
  },
  {
   "cell_type": "code",
   "execution_count": 13,
   "metadata": {},
   "outputs": [],
   "source": [
    "from pydecomp.core import QuanticsTT"
   ]
  },
  {
   "cell_type": "code",
   "execution_count": 14,
   "metadata": {},
   "outputs": [
    {
     "name": "stdout",
     "output_type": "stream",
     "text": [
      "reshaping to [2, 2, 2, 2, 2, 2, 2, 2, 2, 2, 2, 2, 2, 2, 2, 2, 2, 2]\n",
      "[1 1 1 1 1 1 1 1 1 1 1 1 1 1 1 1 1 1 1]\n",
      "[1 2 2 2 2 2 2 2 2 2 2 2 2 2 2 2 2 2 1]\n",
      "[1 2 3 3 3 3 3 3 3 3 3 3 3 3 3 3 3 2 1]\n",
      "[1 2 4 4 4 4 4 4 4 4 4 4 4 4 4 4 4 2 1]\n",
      "[1 2 4 5 5 5 5 5 5 5 5 5 5 5 5 5 4 2 1]\n",
      "[1 2 4 6 6 6 6 6 6 6 6 6 6 6 6 6 4 2 1]\n",
      "[1 2 4 7 7 7 7 7 7 7 7 7 7 7 7 7 4 2 1]\n",
      "[1 2 4 8 8 8 8 8 8 8 8 8 8 8 8 8 4 2 1]\n",
      "[1 2 4 8 9 9 9 9 9 9 9 9 9 9 9 8 4 2 1]\n",
      "[ 1  2  4  8 10 10 10 10 10 10 10 10 10 10 10  8  4  2  1]\n",
      "[ 1  2  4  8 15 15 15 15 15 15 15 15 15 15 15  8  4  2  1]\n",
      "[ 1  2  4  8 16 20 20 20 20 20 20 20 20 20 16  8  4  2  1]\n",
      "[ 1  2  4  8 16 25 25 25 25 25 25 25 25 25 16  8  4  2  1]\n",
      "[ 1  2  4  8 16 30 30 30 30 30 30 30 30 30 16  8  4  2  1]\n",
      "[ 1  2  4  8 16 32 35 35 35 35 35 35 35 32 16  8  4  2  1]\n",
      "[ 1  2  4  8 16 32 40 40 40 40 40 40 40 32 16  8  4  2  1]\n",
      "[ 1  2  4  8 16 32 50 50 50 50 50 50 50 32 16  8  4  2  1]\n",
      "[ 1  2  4  8 16 32 60 60 60 60 60 60 60 32 16  8  4  2  1]\n",
      "[ 1  2  4  8 16 32 64 70 70 70 70 70 64 32 16  8  4  2  1]\n",
      "[ 1  2  4  8 16 32 64 80 80 80 80 80 64 32 16  8  4  2  1]\n",
      "[ 1  2  4  8 16 32 64 90 90 90 90 90 64 32 16  8  4  2  1]\n",
      "[  1   2   4   8  16  32  64 100 100 100 100 100  64  32  16   8   4   2\n",
      "   1]\n",
      "[  1   2   4   8  16  32  64 120 120 120 120 120  64  32  16   8   4   2\n",
      "   1]\n",
      "[  1   2   4   8  16  32  64 128 140 140 140 128  64  32  16   8   4   2\n",
      "   1]\n",
      "[  1   2   4   8  16  32  64 128 160 160 160 128  64  32  16   8   4   2\n",
      "   1]\n",
      "[  1   2   4   8  16  32  64 128 180 180 180 128  64  32  16   8   4   2\n",
      "   1]\n",
      "[  1   2   4   8  16  32  64 128 200 200 200 128  64  32  16   8   4   2\n",
      "   1]\n",
      "[  1   2   4   8  16  32  64 128 220 220 220 128  64  32  16   8   4   2\n",
      "   1]\n",
      "[  1   2   4   8  16  32  64 128 240 240 240 128  64  32  16   8   4   2\n",
      "   1]\n",
      "[  1   2   4   8  16  32  64 128 256 260 256 128  64  32  16   8   4   2\n",
      "   1]\n",
      "[  1   2   4   8  16  32  64 128 256 280 256 128  64  32  16   8   4   2\n",
      "   1]\n",
      "[  1   2   4   8  16  32  64 128 256 300 256 128  64  32  16   8   4   2\n",
      "   1]\n",
      "[  1   2   4   8  16  32  64 128 256 350 256 128  64  32  16   8   4   2\n",
      "   1]\n",
      "[  1   2   4   8  16  32  64 128 256 400 256 128  64  32  16   8   4   2\n",
      "   1]\n",
      "[  1   2   4   8  16  32  64 128 256 450 256 128  64  32  16   8   4   2\n",
      "   1]\n",
      "[  1   2   4   8  16  32  64 128 256 500 256 128  64  32  16   8   4   2\n",
      "   1]\n",
      "[  1   2   4   8  16  32  64 128 256 501 256 128  64  32  16   8   4   2\n",
      "   1]\n"
     ]
    },
    {
     "ename": "NameError",
     "evalue": "name 'qA' is not defined",
     "output_type": "error",
     "traceback": [
      "\u001b[0;31m---------------------------------------------------------------------------\u001b[0m",
      "\u001b[0;31mNameError\u001b[0m                                 Traceback (most recent call last)",
      "\u001b[0;32m<ipython-input-14-dfa13d4718de>\u001b[0m in \u001b[0;36m<module>\u001b[0;34m\u001b[0m\n\u001b[0;32m----> 1\u001b[0;31m \u001b[0mQuanticsTT\u001b[0m\u001b[0;34m.\u001b[0m\u001b[0mrun_test\u001b[0m\u001b[0;34m(\u001b[0m\u001b[0;34m)\u001b[0m\u001b[0;34m\u001b[0m\u001b[0;34m\u001b[0m\u001b[0m\n\u001b[0m",
      "\u001b[0;32m~/Documents/thesis_light/prog/python/python_decomposition_library/pydecomp/core/QuanticsTT.py\u001b[0m in \u001b[0;36mrun_test\u001b[0;34m(d, N, q)\u001b[0m\n\u001b[1;32m     82\u001b[0m     \u001b[0mA\u001b[0m\u001b[0;34m=\u001b[0m\u001b[0mnp\u001b[0m\u001b[0;34m.\u001b[0m\u001b[0mrandom\u001b[0m\u001b[0;34m.\u001b[0m\u001b[0mrand\u001b[0m\u001b[0;34m(\u001b[0m\u001b[0mN\u001b[0m\u001b[0;34m,\u001b[0m\u001b[0mN\u001b[0m\u001b[0;34m,\u001b[0m\u001b[0mN\u001b[0m\u001b[0;34m)\u001b[0m\u001b[0;34m\u001b[0m\u001b[0;34m\u001b[0m\u001b[0m\n\u001b[1;32m     83\u001b[0m     \u001b[0mapprox_with_QTT_SVD\u001b[0m\u001b[0;34m(\u001b[0m\u001b[0mA\u001b[0m\u001b[0;34m,\u001b[0m\u001b[0mq\u001b[0m\u001b[0;34m)\u001b[0m\u001b[0;34m\u001b[0m\u001b[0;34m\u001b[0m\u001b[0m\n\u001b[0;32m---> 84\u001b[0;31m     \u001b[0mprint\u001b[0m\u001b[0;34m(\u001b[0m\u001b[0mqA\u001b[0m\u001b[0;34m)\u001b[0m\u001b[0;34m\u001b[0m\u001b[0;34m\u001b[0m\u001b[0m\n\u001b[0m\u001b[1;32m     85\u001b[0m     \u001b[0mbenchmark_plotter\u001b[0m\u001b[0;34m(\u001b[0m\u001b[0;34m{\u001b[0m\u001b[0;34m\"QTT_SVD\"\u001b[0m\u001b[0;34m:\u001b[0m\u001b[0mnp\u001b[0m\u001b[0;34m.\u001b[0m\u001b[0mstack\u001b[0m\u001b[0;34m(\u001b[0m\u001b[0mqA\u001b[0m\u001b[0;34m.\u001b[0m\u001b[0mapprox_error\u001b[0m\u001b[0;34m)\u001b[0m\u001b[0;34m}\u001b[0m\u001b[0;34m)\u001b[0m\u001b[0;34m\u001b[0m\u001b[0;34m\u001b[0m\u001b[0m\n\u001b[1;32m     86\u001b[0m     \u001b[0;32mreturn\u001b[0m\u001b[0;34m\u001b[0m\u001b[0;34m\u001b[0m\u001b[0m\n",
      "\u001b[0;31mNameError\u001b[0m: name 'qA' is not defined"
     ]
    }
   ],
   "source": [
    "QuanticsTT.run_test()"
   ]
  },
  {
   "cell_type": "code",
   "execution_count": 19,
   "metadata": {},
   "outputs": [
    {
     "ename": "NameError",
     "evalue": "name 'benchmark_2D' is not defined",
     "output_type": "error",
     "traceback": [
      "\u001b[0;31m---------------------------------------------------------------------------\u001b[0m",
      "\u001b[0;31mNameError\u001b[0m                                 Traceback (most recent call last)",
      "\u001b[0;32m<ipython-input-19-efe7ccdb9ab1>\u001b[0m in \u001b[0;36m<module>\u001b[0;34m\u001b[0m\n\u001b[1;32m      1\u001b[0m \u001b[0mdecomp_methods\u001b[0m\u001b[0;34m=\u001b[0m\u001b[0;34m[\u001b[0m\u001b[0;34m\"QTT_SVD\"\u001b[0m\u001b[0;34m,\u001b[0m\u001b[0;34m\"SVD_by_EVD\"\u001b[0m\u001b[0;34m]\u001b[0m\u001b[0;34m\u001b[0m\u001b[0;34m\u001b[0m\u001b[0m\n\u001b[1;32m      2\u001b[0m \u001b[0mN\u001b[0m\u001b[0;34m=\u001b[0m\u001b[0;36m32\u001b[0m\u001b[0;34m\u001b[0m\u001b[0;34m\u001b[0m\u001b[0m\n\u001b[0;32m----> 3\u001b[0;31m benchmark_2D(decomp_methods ,shape=[N,N], test_function=2, plot=True,\n\u001b[0m\u001b[1;32m      4\u001b[0m                 plot_name='pydecomp/plots/2D_approx_benchmark.pdf',tol=1e-6)\n",
      "\u001b[0;31mNameError\u001b[0m: name 'benchmark_2D' is not defined"
     ]
    }
   ],
   "source": [
    "decomp_methods=[\"QTT_SVD\",\"SVD_by_EVD\"]\n",
    "N=32\n",
    "benchmark_2D(decomp_methods ,shape=[N,N], test_function=2, plot=True,\n",
    "                plot_name='pydecomp/plots/2D_approx_benchmark.pdf',tol=1e-6)"
   ]
  },
  {
   "cell_type": "code",
   "execution_count": 22,
   "metadata": {},
   "outputs": [
    {
     "name": "stdout",
     "output_type": "stream",
     "text": [
      "python: can't open file 'pydcomp.analysis.2D_benchmark.py': [Errno 2] No such file or directory\n"
     ]
    }
   ],
   "source": [
    "!python pydcomp.analysis.2D_benchmark.py"
   ]
  },
  {
   "cell_type": "code",
   "execution_count": null,
   "metadata": {},
   "outputs": [],
   "source": []
  }
 ],
 "metadata": {
  "kernelspec": {
   "display_name": "Python 3",
   "language": "python",
   "name": "python3"
  },
  "language_info": {
   "codemirror_mode": {
    "name": "ipython",
    "version": 3
   },
   "file_extension": ".py",
   "mimetype": "text/x-python",
   "name": "python",
   "nbconvert_exporter": "python",
   "pygments_lexer": "ipython3",
   "version": "3.8.3"
  }
 },
 "nbformat": 4,
 "nbformat_minor": 4
}
