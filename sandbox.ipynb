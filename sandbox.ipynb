{
 "cells": [
  {
   "cell_type": "raw",
   "metadata": {},
   "source": [
    "import sys\n",
    "!conda install --yes --prefix {sys.prefix} mkl-devel"
   ]
  },
  {
   "cell_type": "raw",
   "metadata": {},
   "source": [
    "# Install a pip package in the current Jupyter kernel\n",
    "import sys\n",
    "!{sys.executable} -m pip install primme"
   ]
  },
  {
   "cell_type": "code",
   "execution_count": 1,
   "metadata": {},
   "outputs": [],
   "source": [
    "#adding pydecomp \n",
    "%load_ext autoreload\n",
    "%autoreload 2\n",
    "import sys\n",
    "sys.path.insert(0, \"/home/lestandi/Documents/thesis_light/prog/python/python_decomposition_library/pydecomp/\")\n",
    "sys.path.insert(0, \"/home/lestandi/Documents/thesis_light/prog/python/python_decomposition_library/pydecomp/core/\")\n",
    "sys.path.insert(0, \"/home/lestandi/Documents/thesis_light/prog/python/python_decomposition_library/pydecomp/utils/\")\n",
    "sys.path.insert(0, \"/home/lestandi/Documents/thesis_light/prog/python/python_decomposition_library/pydecomp/analysis/\")\n",
    "sys.path.insert(0, \"/home/lestandi/Documents/thesis_light/prog/python/python_decomposition_library/pydecomp/\")"
   ]
  },
  {
   "cell_type": "code",
   "execution_count": 2,
   "metadata": {},
   "outputs": [],
   "source": [
    "from pydecomp.core.TSVD import TSVD\n",
    "import numpy as np"
   ]
  },
  {
   "cell_type": "code",
   "execution_count": 3,
   "metadata": {},
   "outputs": [
    {
     "name": "stdout",
     "output_type": "stream",
     "text": [
      "\n",
      " Testing SVD with random matrix\n",
      "\n",
      "\n",
      " --------------SVD by EVD computing time {} 0.07725930213928223\n",
      "r=5\n",
      "sigma[:5]= [[1118.52712263]\n",
      " [  35.24230779]\n",
      " [  35.16203955]\n",
      " [  35.00033882]\n",
      " [  34.93556715]]\n",
      "\n",
      " Should be small : 640.9593870670317\n",
      "Selected PRIMME_SVDS solver. This solver is iterative and best               suited for sparse tall skinny matrices. High accuracy requirement               may lead to intractable CPU times.\n",
      "\n",
      " --------------PRIMME_SVDs computing time {} 0.8308098316192627\n",
      "r=5\n",
      "sigma[:5]= [[1118.52712263]\n",
      " [  35.24230777]\n",
      " [  35.16203954]\n",
      " [  35.00033875]\n",
      " [  34.935567  ]]\n",
      "\n",
      " Should be small : 640.9593870801822\n"
     ]
    }
   ],
   "source": [
    "    #test procedure for the standard numpy matrix SVD\n",
    "    from time import time\n",
    "    print(\"\\n Testing SVD with random matrix\\n\")\n",
    "    n,m=10000,500\n",
    "    F=np.random.rand(n,m)\n",
    "    # F=np.reshape(np.arange(n*m),(n,m))\n",
    "\n",
    "    t=time()\n",
    "    phi, sigma, A=TSVD(F,solver='EVD',rank=5)\n",
    "    print('\\n --------------SVD by EVD computing time {}',time()-t)\n",
    "    # print(\"\\nEVD\\n----------- \\nphi :\\n {}\\n sigma:\\n {} \\n A:\\n {}\".format(phi, sigma, A))\n",
    "    r=sigma.size\n",
    "    sigma=np.reshape(sigma,[r,1])\n",
    "    F_approx = phi@(sigma*A.T)\n",
    "    err=np.linalg.norm(F_approx-F)\n",
    "    print(\"r={}\".format(r))\n",
    "    print(\"sigma[:5]=\",sigma[0:5])\n",
    "    print(\"\\n Should be small : {}\".format(err))    \n",
    "    \n",
    "    t=time()\n",
    "    phi, sigma, A=TSVD(F,solver='PRIMME',rank=5,epsilon=1e-6)\n",
    "    print('\\n --------------PRIMME_SVDs computing time {}',time()-t)\n",
    "    # print(\"\\nEVD\\n----------- \\nphi :\\n {}\\n sigma:\\n {} \\n A:\\n {}\".format(phi, sigma, A))\n",
    "    r=sigma.size\n",
    "    sigma=np.reshape(sigma,[r,1])\n",
    "    F_approx = phi@(sigma*A.T)\n",
    "    err=np.linalg.norm(F_approx-F)\n",
    "    print(\"r={}\".format(r))\n",
    "    print(\"sigma[:5]=\",sigma[0:5])\n",
    "    print(\"\\n Should be small : {}\".format(err))"
   ]
  },
  {
   "cell_type": "code",
   "execution_count": 4,
   "metadata": {},
   "outputs": [
    {
     "name": "stdout",
     "output_type": "stream",
     "text": [
      "[1118.52712263   35.24230779   35.16203955   35.00033882   34.93556715]\n",
      "1.7300770282745361 531\n"
     ]
    }
   ],
   "source": [
    "import scipy\n",
    "import primme\n",
    "# Sparse random rectangular matrix 10^5x100\n",
    "#A = scipy.sparse.rand(100000, 100, density=1., random_state=10)\n",
    "#print(A.size)\n",
    "# Compute the three closest singular values to 6.0 with a tolerance of 1e-6\n",
    "svecs_left, svals, svecs_right, stats = primme.svds(F, 5, which='LM',\n",
    "                                                    return_stats=True)\n",
    "A_svals = svals\n",
    "print(svals)\n",
    "print(stats[\"elapsedTime\"], stats[\"numMatvecs\"])"
   ]
  },
  {
   "cell_type": "code",
   "execution_count": 5,
   "metadata": {},
   "outputs": [
    {
     "data": {
      "text/plain": [
       "array([-6.09838611e-16, -5.93772608e-10, -3.68905080e-10, -1.76656085e-09,\n",
       "       -4.15527190e-09])"
      ]
     },
     "execution_count": 5,
     "metadata": {},
     "output_type": "execute_result"
    }
   ],
   "source": [
    "(sigma[:,0]-svals)/sigma[:,0]"
   ]
  },
  {
   "cell_type": "code",
   "execution_count": 6,
   "metadata": {},
   "outputs": [
    {
     "name": "stdout",
     "output_type": "stream",
     "text": [
      "phi orthog test\n",
      "[[ 1.000e+00 -6.189e-15 -8.160e-15  1.367e-16  4.674e-15]\n",
      " [-6.189e-15  1.000e+00 -6.145e-14 -3.733e-14  8.466e-14]\n",
      " [-8.160e-15 -6.145e-14  1.000e+00 -1.207e-13  3.648e-14]\n",
      " [ 1.367e-16 -3.733e-14 -1.207e-13  1.000e+00  1.247e-13]\n",
      " [ 4.674e-15  8.466e-14  3.648e-14  1.247e-13  1.000e+00]]\n",
      "svecs orthog test\n",
      "[[ 1.000e+00  1.505e-14  2.399e-14  3.095e-15 -4.238e-15]\n",
      " [ 1.505e-14  1.000e+00 -1.460e-13  1.250e-13 -4.174e-14]\n",
      " [ 2.399e-14 -1.460e-13  1.000e+00 -5.119e-14  3.959e-13]\n",
      " [ 3.095e-15  1.250e-13 -5.119e-14  1.000e+00  1.645e-13]\n",
      " [-4.238e-15 -4.174e-14  3.959e-13  1.645e-13  1.000e+00]]\n",
      "v orthog test\n",
      "[[ 1.000e+00 -1.579e-16  9.368e-17  9.194e-17  1.457e-16]\n",
      " [-1.579e-16  1.000e+00 -9.801e-16 -1.962e-15 -1.017e-15]\n",
      " [ 9.368e-17 -9.801e-16  1.000e+00 -7.199e-17  5.109e-16]\n",
      " [ 9.194e-17 -1.962e-15 -7.199e-17  1.000e+00  1.082e-15]\n",
      " [ 1.457e-16 -1.017e-15  5.109e-16  1.082e-15  1.000e+00]]\n",
      "svecs orthog test\n",
      "[[ 1.000e+00  2.689e-16  2.533e-16 -4.025e-16 -4.718e-16]\n",
      " [ 2.689e-16  1.000e+00 -3.834e-16  7.347e-16 -5.621e-16]\n",
      " [ 2.533e-16 -3.834e-16  1.000e+00  3.296e-17  1.157e-15]\n",
      " [-4.025e-16  7.347e-16  3.296e-17  1.000e+00 -2.717e-15]\n",
      " [-4.718e-16 -5.621e-16  1.157e-15 -2.717e-15  1.000e+00]]\n"
     ]
    }
   ],
   "source": [
    "np.set_printoptions(precision=3)\n",
    "print(\"phi orthog test\")\n",
    "print(phi.T@phi)\n",
    "print(\"svecs orthog test\")\n",
    "print(svecs_left.T@svecs_left)\n",
    "\n",
    "print(\"v orthog test\")\n",
    "print(A.T@A)\n",
    "print(\"svecs orthog test\")\n",
    "print(svecs_right@svecs_right.T)"
   ]
  },
  {
   "cell_type": "code",
   "execution_count": 7,
   "metadata": {},
   "outputs": [
    {
     "data": {
      "text/plain": [
       "(128, 64)"
      ]
     },
     "execution_count": 7,
     "metadata": {},
     "output_type": "execute_result"
    }
   ],
   "source": [
    "import math\n",
    "import numpy as np\n",
    "q=2\n",
    "shape=[65,64]\n",
    "size=np.product(shape)\n",
    "D=int(round(math.log( size, q )))\n",
    "new_shape=[q] * D\n",
    "tuple( [ q**(int(math.log(s-0.5,q))+1) for s in shape ] )"
   ]
  },
  {
   "cell_type": "code",
   "execution_count": 8,
   "metadata": {},
   "outputs": [
    {
     "name": "stdout",
     "output_type": "stream",
     "text": [
      "[2, 2, 2, 2, 2, 2, 2, 2, 2, 2, 2, 2]\n"
     ]
    }
   ],
   "source": [
    "print(new_shape)"
   ]
  },
  {
   "cell_type": "code",
   "execution_count": 9,
   "metadata": {},
   "outputs": [],
   "source": [
    "A=np.ones(new_shape)"
   ]
  },
  {
   "cell_type": "code",
   "execution_count": 10,
   "metadata": {},
   "outputs": [],
   "source": [
    "B=np.ones(shape)"
   ]
  },
  {
   "cell_type": "code",
   "execution_count": 11,
   "metadata": {},
   "outputs": [
    {
     "data": {
      "text/plain": [
       "False"
      ]
     },
     "execution_count": 11,
     "metadata": {},
     "output_type": "execute_result"
    }
   ],
   "source": [
    "A.size==B.size"
   ]
  },
  {
   "cell_type": "code",
   "execution_count": 12,
   "metadata": {},
   "outputs": [
    {
     "data": {
      "text/plain": [
       "False"
      ]
     },
     "execution_count": 12,
     "metadata": {},
     "output_type": "execute_result"
    }
   ],
   "source": [
    "(math.log( size, q )).is_integer()"
   ]
  },
  {
   "cell_type": "code",
   "execution_count": null,
   "metadata": {},
   "outputs": [],
   "source": []
  },
  {
   "cell_type": "code",
   "execution_count": 13,
   "metadata": {},
   "outputs": [],
   "source": [
    "from pydecomp.core import QuanticsTT"
   ]
  },
  {
   "cell_type": "code",
   "execution_count": 14,
   "metadata": {},
   "outputs": [
    {
     "name": "stdout",
     "output_type": "stream",
     "text": [
      "reshaping to [2, 2, 2, 2, 2, 2, 2, 2, 2, 2, 2, 2, 2, 2, 2, 2, 2, 2]\n",
      "[1 1 1 1 1 1 1 1 1 1 1 1 1 1 1 1 1 1 1]\n",
      "[1 2 2 2 2 2 2 2 2 2 2 2 2 2 2 2 2 2 1]\n",
      "[1 2 3 3 3 3 3 3 3 3 3 3 3 3 3 3 3 2 1]\n",
      "[1 2 4 4 4 4 4 4 4 4 4 4 4 4 4 4 4 2 1]\n",
      "[1 2 4 5 5 5 5 5 5 5 5 5 5 5 5 5 4 2 1]\n",
      "[1 2 4 6 6 6 6 6 6 6 6 6 6 6 6 6 4 2 1]\n",
      "[1 2 4 7 7 7 7 7 7 7 7 7 7 7 7 7 4 2 1]\n",
      "[1 2 4 8 8 8 8 8 8 8 8 8 8 8 8 8 4 2 1]\n",
      "[1 2 4 8 9 9 9 9 9 9 9 9 9 9 9 8 4 2 1]\n",
      "[ 1  2  4  8 10 10 10 10 10 10 10 10 10 10 10  8  4  2  1]\n",
      "[ 1  2  4  8 15 15 15 15 15 15 15 15 15 15 15  8  4  2  1]\n",
      "[ 1  2  4  8 16 20 20 20 20 20 20 20 20 20 16  8  4  2  1]\n",
      "[ 1  2  4  8 16 25 25 25 25 25 25 25 25 25 16  8  4  2  1]\n",
      "[ 1  2  4  8 16 30 30 30 30 30 30 30 30 30 16  8  4  2  1]\n",
      "[ 1  2  4  8 16 32 35 35 35 35 35 35 35 32 16  8  4  2  1]\n",
      "[ 1  2  4  8 16 32 40 40 40 40 40 40 40 32 16  8  4  2  1]\n",
      "[ 1  2  4  8 16 32 50 50 50 50 50 50 50 32 16  8  4  2  1]\n",
      "[ 1  2  4  8 16 32 60 60 60 60 60 60 60 32 16  8  4  2  1]\n",
      "[ 1  2  4  8 16 32 64 70 70 70 70 70 64 32 16  8  4  2  1]\n",
      "[ 1  2  4  8 16 32 64 80 80 80 80 80 64 32 16  8  4  2  1]\n",
      "[ 1  2  4  8 16 32 64 90 90 90 90 90 64 32 16  8  4  2  1]\n",
      "[  1   2   4   8  16  32  64 100 100 100 100 100  64  32  16   8   4   2\n",
      "   1]\n",
      "[  1   2   4   8  16  32  64 120 120 120 120 120  64  32  16   8   4   2\n",
      "   1]\n",
      "[  1   2   4   8  16  32  64 128 140 140 140 128  64  32  16   8   4   2\n",
      "   1]\n",
      "[  1   2   4   8  16  32  64 128 160 160 160 128  64  32  16   8   4   2\n",
      "   1]\n",
      "[  1   2   4   8  16  32  64 128 180 180 180 128  64  32  16   8   4   2\n",
      "   1]\n",
      "[  1   2   4   8  16  32  64 128 200 200 200 128  64  32  16   8   4   2\n",
      "   1]\n",
      "[  1   2   4   8  16  32  64 128 220 220 220 128  64  32  16   8   4   2\n",
      "   1]\n",
      "[  1   2   4   8  16  32  64 128 240 240 240 128  64  32  16   8   4   2\n",
      "   1]\n",
      "[  1   2   4   8  16  32  64 128 256 260 256 128  64  32  16   8   4   2\n",
      "   1]\n",
      "[  1   2   4   8  16  32  64 128 256 280 256 128  64  32  16   8   4   2\n",
      "   1]\n",
      "[  1   2   4   8  16  32  64 128 256 300 256 128  64  32  16   8   4   2\n",
      "   1]\n",
      "[  1   2   4   8  16  32  64 128 256 350 256 128  64  32  16   8   4   2\n",
      "   1]\n",
      "[  1   2   4   8  16  32  64 128 256 400 256 128  64  32  16   8   4   2\n",
      "   1]\n",
      "[  1   2   4   8  16  32  64 128 256 450 256 128  64  32  16   8   4   2\n",
      "   1]\n",
      "[  1   2   4   8  16  32  64 128 256 500 256 128  64  32  16   8   4   2\n",
      "   1]\n",
      "QuanticsTT\n",
      "ndim=3\n",
      "original_shape=(64, 64, 64)\n",
      "q=2\n",
      "qshape=[2, 2, 2, 2, 2, 2, 2, 2, 2, 2, 2, 2, 2, 2, 2, 2, 2, 2]\n",
      "-------------------------------------------\n",
      "Approx_data rank=\n",
      "[1, 2, 4, 8, 16, 32, 64, 128, 256, 500, 256, 128, 64, 32, 16, 8, 4, 2, 1]\n",
      "\n",
      "[1.373e-04 5.188e-04 1.083e-03 1.862e-03 2.747e-03 3.815e-03 5.066e-03\n",
      " 6.500e-03 7.919e-03 9.491e-03 1.964e-02 3.189e-02 4.684e-02 6.485e-02\n",
      " 8.357e-02 1.032e-01 1.493e-01 2.045e-01 2.596e-01 3.151e-01 3.767e-01\n",
      " 4.445e-01 5.983e-01 7.392e-01 8.698e-01 1.013e+00 1.168e+00 1.335e+00\n",
      " 1.514e+00 1.682e+00 1.760e+00 1.839e+00 2.034e+00 2.229e+00 2.424e+00\n",
      " 2.620e+00]\n"
     ]
    },
    {
     "name": "stderr",
     "output_type": "stream",
     "text": [
      "/home/lestandi/Documents/thesis_light/prog/python/python_decomposition_library/pydecomp/analysis/plot.py:229: MatplotlibDeprecationWarning: Adding an axes using the same arguments as a previous axes currently reuses the earlier instance.  In a future version, a new instance will always be created and returned.  Meanwhile, this warning can be suppressed, and the future behavior ensured, by passing a unique label to each axes instance.\n",
      "  ax=fig.add_subplot(111)\n",
      "/home/lestandi/Documents/thesis_light/prog/python/python_decomposition_library/pydecomp/analysis/plot.py:229: MatplotlibDeprecationWarning: Adding an axes using the same arguments as a previous axes currently reuses the earlier instance.  In a future version, a new instance will always be created and returned.  Meanwhile, this warning can be suppressed, and the future behavior ensured, by passing a unique label to each axes instance.\n",
      "  ax=fig.add_subplot(111)\n",
      "/home/lestandi/Documents/thesis_light/prog/python/python_decomposition_library/pydecomp/analysis/plot.py:229: MatplotlibDeprecationWarning: Adding an axes using the same arguments as a previous axes currently reuses the earlier instance.  In a future version, a new instance will always be created and returned.  Meanwhile, this warning can be suppressed, and the future behavior ensured, by passing a unique label to each axes instance.\n",
      "  ax=fig.add_subplot(111)\n",
      "findfont: Font family ['normal'] not found. Falling back to DejaVu Sans.\n"
     ]
    },
    {
     "data": {
      "image/png": "[encoded data removed]",
      "text/plain": [
       "<Figure size 432x288 with 1 Axes>"
      ]
     },
     "metadata": {
      "needs_background": "light"
     },
     "output_type": "display_data"
    }
   ],
   "source": [
    "QuanticsTT.run_test()"
   ]
  },
  {
   "cell_type": "code",
   "execution_count": 15,
   "metadata": {},
   "outputs": [],
   "source": [
    "qA = QuanticsTT.QuanticsTensor(np.ones((64,64)))"
   ]
  },
  {
   "cell_type": "code",
   "execution_count": 16,
   "metadata": {},
   "outputs": [
    {
     "data": {
      "text/plain": [
       "True"
      ]
     },
     "execution_count": 16,
     "metadata": {},
     "output_type": "execute_result"
    }
   ],
   "source": [
    "type(qA)==QuanticsTT.QuanticsTensor"
   ]
  },
  {
   "cell_type": "markdown",
   "metadata": {},
   "source": [
    "## Benchmarking QTT\n",
    "Comparing QTT against standard 2D decomposition methods for separable functions produces intersting results. The approximation accuracy is slightly lower for fixed range because of what I would call edge effect. On the other hand for space size larger than $2^{10}$, the decomposition becomes faster, by orders of magnitude and the compression rate extremely small (as shown below). Typicall compression values are in $O(10^{-5})$ for $\\varepsilon = 10^{-3}$."
   ]
  },
  {
   "cell_type": "code",
   "execution_count": 17,
   "metadata": {},
   "outputs": [
    {
     "name": "stdout",
     "output_type": "stream",
     "text": [
      "2048\n",
      "reshaping to [2, 2, 2, 2, 2, 2, 2, 2, 2, 2, 2, 2, 2, 2, 2, 2, 2, 2, 2, 2, 2]\n",
      "[1 1 1 1 1 1 1 1 1 1 1 1 1 1 1 1 1 1 1 1 1 1]\n",
      "[1 2 2 2 2 2 2 2 2 2 2 2 2 2 2 2 2 2 2 2 2 1]\n",
      "[1 2 3 3 3 3 3 3 3 3 3 3 3 3 3 3 3 3 3 2 2 1]\n",
      "[1 2 4 4 4 4 4 4 4 4 4 4 4 4 3 3 3 3 3 2 2 1]\n",
      "QTT_SVD decompostion time: 0.38 s\n",
      "({'L1': [0.09969417968429255, 0.012587000355493545, 0.0015097763974960784, 0.0004595615693758124], 'L2': [0.12738750504231314, 0.01589181439105136, 0.001989266797944807, 0.0006399077396619931], 'Linf': [0.3508106190426826, 0.055687390193076135, 0.011709568183663215, 0.007219594415129407]}, array([2.003e-05, 7.629e-05, 1.564e-04, 2.346e-04]))\n"
     ]
    },
    {
     "name": "stderr",
     "output_type": "stream",
     "text": [
      "/home/lestandi/Documents/thesis_light/prog/python/python_decomposition_library/pydecomp/analysis/plot.py:115: MatplotlibDeprecationWarning: Adding an axes using the same arguments as a previous axes currently reuses the earlier instance.  In a future version, a new instance will always be created and returned.  Meanwhile, this warning can be suppressed, and the future behavior ensured, by passing a unique label to each axes instance.\n",
      "  ax=fig.add_subplot(111)\n",
      "/home/lestandi/Documents/thesis_light/prog/python/python_decomposition_library/pydecomp/analysis/plot.py:115: MatplotlibDeprecationWarning: Adding an axes using the same arguments as a previous axes currently reuses the earlier instance.  In a future version, a new instance will always be created and returned.  Meanwhile, this warning can be suppressed, and the future behavior ensured, by passing a unique label to each axes instance.\n",
      "  ax=fig.add_subplot(111)\n",
      "/home/lestandi/Documents/thesis_light/prog/python/python_decomposition_library/pydecomp/analysis/plot.py:115: MatplotlibDeprecationWarning: Adding an axes using the same arguments as a previous axes currently reuses the earlier instance.  In a future version, a new instance will always be created and returned.  Meanwhile, this warning can be suppressed, and the future behavior ensured, by passing a unique label to each axes instance.\n",
      "  ax=fig.add_subplot(111)\n",
      "/home/lestandi/Documents/thesis_light/prog/python/python_decomposition_library/pydecomp/analysis/plot.py:115: MatplotlibDeprecationWarning: Adding an axes using the same arguments as a previous axes currently reuses the earlier instance.  In a future version, a new instance will always be created and returned.  Meanwhile, this warning can be suppressed, and the future behavior ensured, by passing a unique label to each axes instance.\n",
      "  ax=fig.add_subplot(111)\n",
      "findfont: Font family ['normal'] not found. Falling back to DejaVu Sans.\n"
     ]
    },
    {
     "name": "stdout",
     "output_type": "stream",
     "text": [
      "SVD_by_EVD decompostion time: 0.20 s\n",
      "7 2048 1024\n",
      "{'QTT_L1': array([0.1  , 0.013, 0.002, 0.   ]), 'QTT_L2': array([0.127, 0.016, 0.002, 0.001]), 'QTT_Linf': array([0.351, 0.056, 0.012, 0.007]), 'SVD_by_EVD': array([1.265e-01, 9.040e-03, 1.546e-03, 3.767e-04, 1.126e-04, 3.870e-05,\n",
      "       1.474e-05])}\n"
     ]
    },
    {
     "data": {
      "image/png": "[encoded data removed]",
      "text/plain": [
       "<Figure size 504x432 with 1 Axes>"
      ]
     },
     "metadata": {
      "needs_background": "light"
     },
     "output_type": "display_data"
    }
   ],
   "source": [
    "from analysis.benchmark_2D import benchmark_2D\n",
    "decomp_methods=[\"QTT_SVD\",\"SVD_by_EVD\"]\n",
    "N=2**11\n",
    "print(N)\n",
    "benchmark_2D(decomp_methods ,shape=[N,N//2], test_function=2, plot=True,\n",
    "                plot_name='',tol=1e-8)"
   ]
  },
  {
   "cell_type": "markdown",
   "metadata": {},
   "source": [
    "## Next development step\n",
    " - test QTT agains other high order decomposition methods\n",
    " -:thick_tickmark: Add norm comparison for all methods $L_1$, $L_2$ and $L_\\infty$ norms as per requested\n",
    " - find and external library to test HT. probably no time, nor point in conding HT"
   ]
  },
  {
   "cell_type": "code",
   "execution_count": 18,
   "metadata": {},
   "outputs": [],
   "source": [
    "from benchmark_multivariable import benchmark_multivariable"
   ]
  },
  {
   "cell_type": "code",
   "execution_count": 35,
   "metadata": {},
   "outputs": [
    {
     "name": "stdout",
     "output_type": "stream",
     "text": [
      "2097152\n",
      "STHO_SVD decompostion time: 0.18 s\n",
      "reshaping to [2, 2, 2, 2, 2, 2, 2, 2, 2, 2, 2, 2, 2, 2, 2, 2, 2, 2, 2, 2, 2]\n",
      "QTT_SVD decompostion time: 0.10 s\n",
      "[1 1 1 1 1 1 1 1 1 1 1 1 1 1 1 1 1 1 1 1 1 1]\n",
      "[1 2 2 2 2 2 2 2 2 2 2 2 2 2 2 2 2 2 2 2 2 1]\n",
      "[1 2 3 3 3 3 3 3 3 3 3 3 3 3 3 3 3 3 3 3 2 1]\n",
      "[1 2 4 4 4 4 4 4 4 4 4 4 4 4 4 4 4 4 4 4 2 1]\n",
      "[1 2 4 5 5 5 5 5 5 5 5 5 5 5 5 5 5 5 5 4 2 1]\n",
      "[1 2 4 6 6 6 6 6 6 6 6 6 6 6 6 6 6 6 6 4 2 1]\n",
      "[1 2 4 7 7 7 7 7 7 7 7 6 7 7 7 7 6 7 6 4 2 1]\n",
      "[1 2 4 8 8 8 8 8 7 7 7 6 8 8 8 8 6 7 6 4 2 1]\n",
      "[1 2 4 8 8 8 8 8 7 7 7 6 9 9 9 9 6 7 6 4 2 1]\n",
      "[ 1  2  4  8  8  8  8  8  7  7  7  6 10 10 10 10  6  7  6  4  2  1]\n",
      "[ 1  2  4  8  8  8  8  8  7  7  7  6 10 11 11 10  6  7  6  4  2  1]\n",
      "[ 1  2  4  8  8  8  8  8  7  7  7  6 10 12 12 10  6  7  6  4  2  1]\n",
      "[ 1  2  4  8  8  8  8  8  7  7  7  6 10 13 13 10  6  7  6  4  2  1]\n",
      "TT_SVD decompostion time: 0.25 s\n",
      "[1 1 1 1]\n",
      "[1 2 2 1]\n",
      "[1 3 3 1]\n",
      "[1 4 4 1]\n",
      "[1 5 5 1]\n"
     ]
    },
    {
     "name": "stderr",
     "output_type": "stream",
     "text": [
      "/home/lestandi/Documents/thesis_light/prog/python/python_decomposition_library/pydecomp/analysis/plot.py:177: MatplotlibDeprecationWarning: Adding an axes using the same arguments as a previous axes currently reuses the earlier instance.  In a future version, a new instance will always be created and returned.  Meanwhile, this warning can be suppressed, and the future behavior ensured, by passing a unique label to each axes instance.\n",
      "  ax=fig.add_subplot(111)\n",
      "/home/lestandi/Documents/thesis_light/prog/python/python_decomposition_library/pydecomp/analysis/plot.py:177: MatplotlibDeprecationWarning: Adding an axes using the same arguments as a previous axes currently reuses the earlier instance.  In a future version, a new instance will always be created and returned.  Meanwhile, this warning can be suppressed, and the future behavior ensured, by passing a unique label to each axes instance.\n",
      "  ax=fig.add_subplot(111)\n",
      "/home/lestandi/Documents/thesis_light/prog/python/python_decomposition_library/pydecomp/analysis/plot.py:177: MatplotlibDeprecationWarning: Adding an axes using the same arguments as a previous axes currently reuses the earlier instance.  In a future version, a new instance will always be created and returned.  Meanwhile, this warning can be suppressed, and the future behavior ensured, by passing a unique label to each axes instance.\n",
      "  ax=fig.add_subplot(111)\n"
     ]
    },
    {
     "data": {
      "image/png": "[encoded data removed]",
      "text/plain": [
       "<Figure size 432x288 with 1 Axes>"
      ]
     },
     "metadata": {
      "needs_background": "light"
     },
     "output_type": "display_data"
    }
   ],
   "source": [
    "    decomp_methods=[\"STHO_SVD\",\"QTT_SVD\",\"TT_SVD\"]\n",
    "    solver=[\"SVD\",\"SVD\",\"SVD\"]\n",
    "    # decomp_methods=[\"RPOD\",\"HO_POD\",\"SHO_POD\",\"TT_SVD\",\"PGD\"]\n",
    "    # solver=[\"trapezes\",\"trapezes\",\"trapezes\",\"SVD\",'trapezes']\n",
    "    shape=[2048,32,32]\n",
    "    N=np.product(shape)\n",
    "    Norm=\"Linf\"\n",
    "    tol=1e-14\n",
    "    print(N)\n",
    "    if N>1e7:\n",
    "        raise Error(\"Warning, N may be too large\")\n",
    "    path=\"/home/lestandi/Documents/thesis_light/prog/python/python_decomposition_library/plots/\"\n",
    "    output=path+\"benchmark_\"+str(shape)+\"_\"+Norm+\"_tol\"+str(tol)+\".pdf\"\n",
    "    benchmark_multivariable(decomp_methods, solver ,shape=shape,\n",
    "                            test_function=1, plot=True,output_decomp='',\n",
    "                            plot_name='',tol=tol,which_norm=Norm)"
   ]
  },
  {
   "cell_type": "markdown",
   "metadata": {},
   "source": [
    "The above benchmarking script shows that QTT is able to greatly reduce the size of the compressed tensor, provided that one of the dimensions (typically the first one, is much larger than the other dimensions. **Add QTT to the paper and state this, when it comes to pure compression (without intent for later use as RB)**"
   ]
  },
  {
   "cell_type": "code",
   "execution_count": null,
   "metadata": {},
   "outputs": [],
   "source": []
  }
 ],
 "metadata": {
  "kernelspec": {
   "display_name": "Python 3",
   "language": "python",
   "name": "python3"
  },
  "language_info": {
   "codemirror_mode": {
    "name": "ipython",
    "version": 3
   },
   "file_extension": ".py",
   "mimetype": "text/x-python",
   "name": "python",
   "nbconvert_exporter": "python",
   "pygments_lexer": "ipython3",
   "version": "3.8.3"
  }
 },
 "nbformat": 4,
 "nbformat_minor": 4
}
