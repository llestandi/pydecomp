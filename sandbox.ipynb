{
 "cells": [
  {
   "cell_type": "raw",
   "metadata": {},
   "source": [
    "import sys\n",
    "!conda install --yes --prefix {sys.prefix} intertools"
   ]
  },
  {
   "cell_type": "code",
   "execution_count": 77,
   "metadata": {},
   "outputs": [
    {
     "name": "stdout",
     "output_type": "stream",
     "text": [
      "\u001b[31mERROR: Could not find a version that satisfies the requirement intertools (from versions: none)\u001b[0m\n",
      "\u001b[31mERROR: No matching distribution found for intertools\u001b[0m\n"
     ]
    }
   ],
   "source": [
    "# Install a pip package in the current Jupyter kernel\n",
    "import sys\n",
    "!{sys.executable} -m pip install intertools"
   ]
  },
  {
   "cell_type": "code",
   "execution_count": 8,
   "metadata": {},
   "outputs": [
    {
     "name": "stdout",
     "output_type": "stream",
     "text": [
      "The autoreload extension is already loaded. To reload it, use:\n",
      "  %reload_ext autoreload\n",
      "lestandil-ws\n"
     ]
    }
   ],
   "source": [
    "#adding pydecomp \n",
    "%load_ext autoreload\n",
    "%autoreload 2\n",
    "import sys\n",
    "import socket\n",
    "print(socket.gethostname())\n",
    "if socket.gethostname()==\"Zbook\":\n",
    "    path_to_files=\"/home/lestandi/Documents/IHPC/surrogate-models-am/sample-data/powder-scale/\"\n",
    "    sys.path+=[\"/home/lestandi/Documents/thesis_light/prog/python/python_decomposition_library\",\n",
    "               \"/home/lestandi/Documents/thesis_light/prog/python/python_decomposition_library/pydecomp\"\n",
    "              ]\n",
    "else:\n",
    "    sys.path+=[\"/home/llestandi/Documents/code/python/python_decomposition_library\",\n",
    "               \"/home/llestandi/Documents/code/python/python_decomposition_library/pydecomp\",\n",
    "               \"/home/llestandi/Documents/code/python/python_decomposition_library/pydecomp/core\",\n",
    "               \"/home/llestandi/Documents/code/python/python_decomposition_library/pydecomp/analysis\",\n",
    "               \"/home/llestandi/Documents/code/python/python_decomposition_library/pydecomp/utils\"\n",
    "              ]\n",
    "    path_to_files=\"/home/llestandi/Documents/code/surrogate-models-am/sample-data/powder-scale/\"\n"
   ]
  },
  {
   "cell_type": "code",
   "execution_count": 9,
   "metadata": {},
   "outputs": [
    {
     "data": {
      "text/plain": [
       "'/home/llestandi/Documents/code/python/python_decomposition_library'"
      ]
     },
     "execution_count": 9,
     "metadata": {},
     "output_type": "execute_result"
    }
   ],
   "source": [
    "pwd"
   ]
  },
  {
   "cell_type": "code",
   "execution_count": 10,
   "metadata": {},
   "outputs": [],
   "source": [
    "from pydecomp.core.TSVD import TSVD\n",
    "from pydecomp.core.tensor_algebra import *\n",
    "import numpy as np"
   ]
  },
  {
   "cell_type": "code",
   "execution_count": 16,
   "metadata": {},
   "outputs": [
    {
     "name": "stdout",
     "output_type": "stream",
     "text": [
      "\n",
      " Testing SVD with random matrix\n",
      "\n",
      "trying SVD by EVD\n",
      "\n",
      " --------------SVD by EVD computing time {} 0.0743706226348877\n",
      "r=5\n",
      "sigma[:5]= [[1118.39571726]\n",
      " [  35.20695318]\n",
      " [  35.15478177]\n",
      " [  35.03286105]\n",
      " [  35.00601192]]\n",
      "\n",
      " Should be small : 641.1203226411549\n",
      "Selected PRIMME_SVDS solver. This solver is iterative and best               suited for sparse tall skinny matrices. High accuracy requirement               may lead to intractable CPU times.\n",
      "500\n",
      "\n",
      " --------------PRIMME_SVDs computing time {} 11.762848377227783\n",
      "r=500\n",
      "sigma[:5]= [[1118.39571726]\n",
      " [  35.20695317]\n",
      " [  35.15478175]\n",
      " [  35.03286099]\n",
      " [  35.00601179]]\n",
      "\n",
      " Should be small : 0.014861878577831713\n"
     ]
    }
   ],
   "source": [
    "    #test procedure for the standard numpy matrix SVD\n",
    "    from time import time\n",
    "    print(\"\\n Testing SVD with random matrix\\n\")\n",
    "    n,m=10000,500\n",
    "    F=np.random.rand(n,m)\n",
    "    # F=np.reshape(np.arange(n*m),(n,m))\n",
    "\n",
    "    t=time()\n",
    "    phi, sigma, A=TSVD(F,solver='EVD',rank=5)\n",
    "    print('\\n --------------SVD by EVD computing time {}',time()-t)\n",
    "    # print(\"\\nEVD\\n----------- \\nphi :\\n {}\\n sigma:\\n {} \\n A:\\n {}\".format(phi, sigma, A))\n",
    "    r=sigma.size\n",
    "    sigma=np.reshape(sigma,[r,1])\n",
    "    F_approx = phi@(sigma*A.T)\n",
    "    err=np.linalg.norm(F_approx-F)\n",
    "    print(\"r={}\".format(r))\n",
    "    print(\"sigma[:5]=\",sigma[0:5])\n",
    "    print(\"\\n Should be small : {}\".format(err))    \n",
    "    \n",
    "    t=time()\n",
    "    phi, sigma, A=TSVD(F,solver='PRIMME',rank=-1,epsilon=1e-6)\n",
    "    print('\\n --------------PRIMME_SVDs computing time {}',time()-t)\n",
    "    # print(\"\\nEVD\\n----------- \\nphi :\\n {}\\n sigma:\\n {} \\n A:\\n {}\".format(phi, sigma, A))\n",
    "    r=sigma.size\n",
    "    sigma=np.reshape(sigma,[r,1])\n",
    "    F_approx = phi@(sigma*A.T)\n",
    "    err=np.linalg.norm(F_approx-F)\n",
    "    print(\"r={}\".format(r))\n",
    "    print(\"sigma[:5]=\",sigma[0:5])\n",
    "    print(\"\\n Should be small : {}\".format(err))"
   ]
  },
  {
   "cell_type": "code",
   "execution_count": 4,
   "metadata": {},
   "outputs": [
    {
     "name": "stdout",
     "output_type": "stream",
     "text": [
      "[1118.52712263   35.24230779   35.16203955   35.00033882   34.93556715]\n",
      "1.7300770282745361 531\n"
     ]
    }
   ],
   "source": [
    "import scipy\n",
    "import primme\n",
    "# Sparse random rectangular matrix 10^5x100\n",
    "#A = scipy.sparse.rand(100000, 100, density=1., random_state=10)\n",
    "#print(A.size)\n",
    "# Compute the three closest singular values to 6.0 with a tolerance of 1e-6\n",
    "svecs_left, svals, svecs_right, stats = primme.svds(F, 5, which='LM',\n",
    "                                                    return_stats=True)\n",
    "A_svals = svals\n",
    "print(svals)\n",
    "print(stats[\"elapsedTime\"], stats[\"numMatvecs\"])"
   ]
  },
  {
   "cell_type": "code",
   "execution_count": 5,
   "metadata": {},
   "outputs": [
    {
     "data": {
      "text/plain": [
       "array([-6.09838611e-16, -5.93772608e-10, -3.68905080e-10, -1.76656085e-09,\n",
       "       -4.15527190e-09])"
      ]
     },
     "execution_count": 5,
     "metadata": {},
     "output_type": "execute_result"
    }
   ],
   "source": [
    "(sigma[:,0]-svals)/sigma[:,0]"
   ]
  },
  {
   "cell_type": "code",
   "execution_count": 6,
   "metadata": {},
   "outputs": [
    {
     "name": "stdout",
     "output_type": "stream",
     "text": [
      "phi orthog test\n",
      "[[ 1.000e+00 -6.189e-15 -8.160e-15  1.367e-16  4.674e-15]\n",
      " [-6.189e-15  1.000e+00 -6.145e-14 -3.733e-14  8.466e-14]\n",
      " [-8.160e-15 -6.145e-14  1.000e+00 -1.207e-13  3.648e-14]\n",
      " [ 1.367e-16 -3.733e-14 -1.207e-13  1.000e+00  1.247e-13]\n",
      " [ 4.674e-15  8.466e-14  3.648e-14  1.247e-13  1.000e+00]]\n",
      "svecs orthog test\n",
      "[[ 1.000e+00  1.505e-14  2.399e-14  3.095e-15 -4.238e-15]\n",
      " [ 1.505e-14  1.000e+00 -1.460e-13  1.250e-13 -4.174e-14]\n",
      " [ 2.399e-14 -1.460e-13  1.000e+00 -5.119e-14  3.959e-13]\n",
      " [ 3.095e-15  1.250e-13 -5.119e-14  1.000e+00  1.645e-13]\n",
      " [-4.238e-15 -4.174e-14  3.959e-13  1.645e-13  1.000e+00]]\n",
      "v orthog test\n",
      "[[ 1.000e+00 -1.579e-16  9.368e-17  9.194e-17  1.457e-16]\n",
      " [-1.579e-16  1.000e+00 -9.801e-16 -1.962e-15 -1.017e-15]\n",
      " [ 9.368e-17 -9.801e-16  1.000e+00 -7.199e-17  5.109e-16]\n",
      " [ 9.194e-17 -1.962e-15 -7.199e-17  1.000e+00  1.082e-15]\n",
      " [ 1.457e-16 -1.017e-15  5.109e-16  1.082e-15  1.000e+00]]\n",
      "svecs orthog test\n",
      "[[ 1.000e+00  2.689e-16  2.533e-16 -4.025e-16 -4.718e-16]\n",
      " [ 2.689e-16  1.000e+00 -3.834e-16  7.347e-16 -5.621e-16]\n",
      " [ 2.533e-16 -3.834e-16  1.000e+00  3.296e-17  1.157e-15]\n",
      " [-4.025e-16  7.347e-16  3.296e-17  1.000e+00 -2.717e-15]\n",
      " [-4.718e-16 -5.621e-16  1.157e-15 -2.717e-15  1.000e+00]]\n"
     ]
    }
   ],
   "source": [
    "np.set_printoptions(precision=3)\n",
    "print(\"phi orthog test\")\n",
    "print(phi.T@phi)\n",
    "print(\"svecs orthog test\")\n",
    "print(svecs_left.T@svecs_left)\n",
    "\n",
    "print(\"v orthog test\")\n",
    "print(A.T@A)\n",
    "print(\"svecs orthog test\")\n",
    "print(svecs_right@svecs_right.T)"
   ]
  },
  {
   "cell_type": "code",
   "execution_count": 7,
   "metadata": {},
   "outputs": [
    {
     "data": {
      "text/plain": [
       "(128, 64)"
      ]
     },
     "execution_count": 7,
     "metadata": {},
     "output_type": "execute_result"
    }
   ],
   "source": [
    "import math\n",
    "import numpy as np\n",
    "q=2\n",
    "shape=[65,64]\n",
    "size=np.product(shape)\n",
    "D=int(round(math.log( size, q )))\n",
    "new_shape=[q] * D\n",
    "tuple( [ q**(int(math.log(s-0.5,q))+1) for s in shape ] )"
   ]
  },
  {
   "cell_type": "code",
   "execution_count": 8,
   "metadata": {},
   "outputs": [
    {
     "name": "stdout",
     "output_type": "stream",
     "text": [
      "[2, 2, 2, 2, 2, 2, 2, 2, 2, 2, 2, 2]\n"
     ]
    }
   ],
   "source": [
    "print(new_shape)"
   ]
  },
  {
   "cell_type": "code",
   "execution_count": 9,
   "metadata": {},
   "outputs": [],
   "source": [
    "A=np.ones(new_shape)"
   ]
  },
  {
   "cell_type": "code",
   "execution_count": 10,
   "metadata": {},
   "outputs": [],
   "source": [
    "B=np.ones(shape)"
   ]
  },
  {
   "cell_type": "code",
   "execution_count": 11,
   "metadata": {},
   "outputs": [
    {
     "data": {
      "text/plain": [
       "False"
      ]
     },
     "execution_count": 11,
     "metadata": {},
     "output_type": "execute_result"
    }
   ],
   "source": [
    "A.size==B.size"
   ]
  },
  {
   "cell_type": "code",
   "execution_count": 12,
   "metadata": {},
   "outputs": [
    {
     "data": {
      "text/plain": [
       "False"
      ]
     },
     "execution_count": 12,
     "metadata": {},
     "output_type": "execute_result"
    }
   ],
   "source": [
    "(math.log( size, q )).is_integer()"
   ]
  },
  {
   "cell_type": "code",
   "execution_count": null,
   "metadata": {},
   "outputs": [],
   "source": []
  },
  {
   "cell_type": "code",
   "execution_count": 13,
   "metadata": {},
   "outputs": [],
   "source": [
    "from pydecomp.core import QuanticsTT"
   ]
  },
  {
   "cell_type": "code",
   "execution_count": 14,
   "metadata": {},
   "outputs": [
    {
     "name": "stdout",
     "output_type": "stream",
     "text": [
      "reshaping to [2, 2, 2, 2, 2, 2, 2, 2, 2, 2, 2, 2, 2, 2, 2, 2, 2, 2]\n",
      "[1 1 1 1 1 1 1 1 1 1 1 1 1 1 1 1 1 1 1]\n",
      "[1 2 2 2 2 2 2 2 2 2 2 2 2 2 2 2 2 2 1]\n",
      "[1 2 3 3 3 3 3 3 3 3 3 3 3 3 3 3 3 2 1]\n",
      "[1 2 4 4 4 4 4 4 4 4 4 4 4 4 4 4 4 2 1]\n",
      "[1 2 4 5 5 5 5 5 5 5 5 5 5 5 5 5 4 2 1]\n",
      "[1 2 4 6 6 6 6 6 6 6 6 6 6 6 6 6 4 2 1]\n",
      "[1 2 4 7 7 7 7 7 7 7 7 7 7 7 7 7 4 2 1]\n",
      "[1 2 4 8 8 8 8 8 8 8 8 8 8 8 8 8 4 2 1]\n",
      "[1 2 4 8 9 9 9 9 9 9 9 9 9 9 9 8 4 2 1]\n",
      "[ 1  2  4  8 10 10 10 10 10 10 10 10 10 10 10  8  4  2  1]\n",
      "[ 1  2  4  8 15 15 15 15 15 15 15 15 15 15 15  8  4  2  1]\n",
      "[ 1  2  4  8 16 20 20 20 20 20 20 20 20 20 16  8  4  2  1]\n",
      "[ 1  2  4  8 16 25 25 25 25 25 25 25 25 25 16  8  4  2  1]\n",
      "[ 1  2  4  8 16 30 30 30 30 30 30 30 30 30 16  8  4  2  1]\n",
      "[ 1  2  4  8 16 32 35 35 35 35 35 35 35 32 16  8  4  2  1]\n",
      "[ 1  2  4  8 16 32 40 40 40 40 40 40 40 32 16  8  4  2  1]\n",
      "[ 1  2  4  8 16 32 50 50 50 50 50 50 50 32 16  8  4  2  1]\n",
      "[ 1  2  4  8 16 32 60 60 60 60 60 60 60 32 16  8  4  2  1]\n",
      "[ 1  2  4  8 16 32 64 70 70 70 70 70 64 32 16  8  4  2  1]\n",
      "[ 1  2  4  8 16 32 64 80 80 80 80 80 64 32 16  8  4  2  1]\n",
      "[ 1  2  4  8 16 32 64 90 90 90 90 90 64 32 16  8  4  2  1]\n",
      "[  1   2   4   8  16  32  64 100 100 100 100 100  64  32  16   8   4   2\n",
      "   1]\n",
      "[  1   2   4   8  16  32  64 120 120 120 120 120  64  32  16   8   4   2\n",
      "   1]\n",
      "[  1   2   4   8  16  32  64 128 140 140 140 128  64  32  16   8   4   2\n",
      "   1]\n",
      "[  1   2   4   8  16  32  64 128 160 160 160 128  64  32  16   8   4   2\n",
      "   1]\n",
      "[  1   2   4   8  16  32  64 128 180 180 180 128  64  32  16   8   4   2\n",
      "   1]\n",
      "[  1   2   4   8  16  32  64 128 200 200 200 128  64  32  16   8   4   2\n",
      "   1]\n",
      "[  1   2   4   8  16  32  64 128 220 220 220 128  64  32  16   8   4   2\n",
      "   1]\n",
      "[  1   2   4   8  16  32  64 128 240 240 240 128  64  32  16   8   4   2\n",
      "   1]\n",
      "[  1   2   4   8  16  32  64 128 256 260 256 128  64  32  16   8   4   2\n",
      "   1]\n",
      "[  1   2   4   8  16  32  64 128 256 280 256 128  64  32  16   8   4   2\n",
      "   1]\n",
      "[  1   2   4   8  16  32  64 128 256 300 256 128  64  32  16   8   4   2\n",
      "   1]\n",
      "[  1   2   4   8  16  32  64 128 256 350 256 128  64  32  16   8   4   2\n",
      "   1]\n",
      "[  1   2   4   8  16  32  64 128 256 400 256 128  64  32  16   8   4   2\n",
      "   1]\n",
      "[  1   2   4   8  16  32  64 128 256 450 256 128  64  32  16   8   4   2\n",
      "   1]\n",
      "[  1   2   4   8  16  32  64 128 256 500 256 128  64  32  16   8   4   2\n",
      "   1]\n",
      "QuanticsTT\n",
      "ndim=3\n",
      "original_shape=(64, 64, 64)\n",
      "q=2\n",
      "qshape=[2, 2, 2, 2, 2, 2, 2, 2, 2, 2, 2, 2, 2, 2, 2, 2, 2, 2]\n",
      "-------------------------------------------\n",
      "Approx_data rank=\n",
      "[1, 2, 4, 8, 16, 32, 64, 128, 256, 500, 256, 128, 64, 32, 16, 8, 4, 2, 1]\n",
      "\n",
      "[1.373e-04 5.188e-04 1.083e-03 1.862e-03 2.747e-03 3.815e-03 5.066e-03\n",
      " 6.500e-03 7.919e-03 9.491e-03 1.964e-02 3.189e-02 4.684e-02 6.485e-02\n",
      " 8.357e-02 1.032e-01 1.493e-01 2.045e-01 2.596e-01 3.151e-01 3.767e-01\n",
      " 4.445e-01 5.983e-01 7.392e-01 8.698e-01 1.013e+00 1.168e+00 1.335e+00\n",
      " 1.514e+00 1.682e+00 1.760e+00 1.839e+00 2.034e+00 2.229e+00 2.424e+00\n",
      " 2.620e+00]\n"
     ]
    },
    {
     "name": "stderr",
     "output_type": "stream",
     "text": [
      "/home/lestandi/Documents/thesis_light/prog/python/python_decomposition_library/pydecomp/analysis/plot.py:229: MatplotlibDeprecationWarning: Adding an axes using the same arguments as a previous axes currently reuses the earlier instance.  In a future version, a new instance will always be created and returned.  Meanwhile, this warning can be suppressed, and the future behavior ensured, by passing a unique label to each axes instance.\n",
      "  ax=fig.add_subplot(111)\n",
      "/home/lestandi/Documents/thesis_light/prog/python/python_decomposition_library/pydecomp/analysis/plot.py:229: MatplotlibDeprecationWarning: Adding an axes using the same arguments as a previous axes currently reuses the earlier instance.  In a future version, a new instance will always be created and returned.  Meanwhile, this warning can be suppressed, and the future behavior ensured, by passing a unique label to each axes instance.\n",
      "  ax=fig.add_subplot(111)\n",
      "/home/lestandi/Documents/thesis_light/prog/python/python_decomposition_library/pydecomp/analysis/plot.py:229: MatplotlibDeprecationWarning: Adding an axes using the same arguments as a previous axes currently reuses the earlier instance.  In a future version, a new instance will always be created and returned.  Meanwhile, this warning can be suppressed, and the future behavior ensured, by passing a unique label to each axes instance.\n",
      "  ax=fig.add_subplot(111)\n",
      "findfont: Font family ['normal'] not found. Falling back to DejaVu Sans.\n"
     ]
    },
    {
     "data": {
      "image/png": "[encoded data removed]",
      "text/plain": [
       "<Figure size 432x288 with 1 Axes>"
      ]
     },
     "metadata": {
      "needs_background": "light"
     },
     "output_type": "display_data"
    }
   ],
   "source": [
    "QuanticsTT.run_test()"
   ]
  },
  {
   "cell_type": "code",
   "execution_count": 15,
   "metadata": {},
   "outputs": [],
   "source": [
    "qA = QuanticsTT.QuanticsTensor(np.ones((64,64)))"
   ]
  },
  {
   "cell_type": "code",
   "execution_count": 16,
   "metadata": {},
   "outputs": [
    {
     "data": {
      "text/plain": [
       "True"
      ]
     },
     "execution_count": 16,
     "metadata": {},
     "output_type": "execute_result"
    }
   ],
   "source": [
    "type(qA)==QuanticsTT.QuanticsTensor"
   ]
  },
  {
   "cell_type": "markdown",
   "metadata": {},
   "source": [
    "## Benchmarking QTT\n",
    "Comparing QTT against standard 2D decomposition methods for separable functions produces intersting results. The approximation accuracy is slightly lower for fixed range because of what I would call edge effect. On the other hand for space size larger than $2^{10}$, the decomposition becomes faster, by orders of magnitude and the compression rate extremely small (as shown below). Typicall compression values are in $O(10^{-5})$ for $\\varepsilon = 10^{-3}$."
   ]
  },
  {
   "cell_type": "code",
   "execution_count": 17,
   "metadata": {},
   "outputs": [
    {
     "name": "stdout",
     "output_type": "stream",
     "text": [
      "2048\n",
      "reshaping to [2, 2, 2, 2, 2, 2, 2, 2, 2, 2, 2, 2, 2, 2, 2, 2, 2, 2, 2, 2, 2]\n",
      "[1 1 1 1 1 1 1 1 1 1 1 1 1 1 1 1 1 1 1 1 1 1]\n",
      "[1 2 2 2 2 2 2 2 2 2 2 2 2 2 2 2 2 2 2 2 2 1]\n",
      "[1 2 3 3 3 3 3 3 3 3 3 3 3 3 3 3 3 3 3 2 2 1]\n",
      "[1 2 4 4 4 4 4 4 4 4 4 4 4 4 3 3 3 3 3 2 2 1]\n",
      "QTT_SVD decompostion time: 0.38 s\n",
      "({'L1': [0.09969417968429255, 0.012587000355493545, 0.0015097763974960784, 0.0004595615693758124], 'L2': [0.12738750504231314, 0.01589181439105136, 0.001989266797944807, 0.0006399077396619931], 'Linf': [0.3508106190426826, 0.055687390193076135, 0.011709568183663215, 0.007219594415129407]}, array([2.003e-05, 7.629e-05, 1.564e-04, 2.346e-04]))\n"
     ]
    },
    {
     "name": "stderr",
     "output_type": "stream",
     "text": [
      "/home/lestandi/Documents/thesis_light/prog/python/python_decomposition_library/pydecomp/analysis/plot.py:115: MatplotlibDeprecationWarning: Adding an axes using the same arguments as a previous axes currently reuses the earlier instance.  In a future version, a new instance will always be created and returned.  Meanwhile, this warning can be suppressed, and the future behavior ensured, by passing a unique label to each axes instance.\n",
      "  ax=fig.add_subplot(111)\n",
      "/home/lestandi/Documents/thesis_light/prog/python/python_decomposition_library/pydecomp/analysis/plot.py:115: MatplotlibDeprecationWarning: Adding an axes using the same arguments as a previous axes currently reuses the earlier instance.  In a future version, a new instance will always be created and returned.  Meanwhile, this warning can be suppressed, and the future behavior ensured, by passing a unique label to each axes instance.\n",
      "  ax=fig.add_subplot(111)\n",
      "/home/lestandi/Documents/thesis_light/prog/python/python_decomposition_library/pydecomp/analysis/plot.py:115: MatplotlibDeprecationWarning: Adding an axes using the same arguments as a previous axes currently reuses the earlier instance.  In a future version, a new instance will always be created and returned.  Meanwhile, this warning can be suppressed, and the future behavior ensured, by passing a unique label to each axes instance.\n",
      "  ax=fig.add_subplot(111)\n",
      "/home/lestandi/Documents/thesis_light/prog/python/python_decomposition_library/pydecomp/analysis/plot.py:115: MatplotlibDeprecationWarning: Adding an axes using the same arguments as a previous axes currently reuses the earlier instance.  In a future version, a new instance will always be created and returned.  Meanwhile, this warning can be suppressed, and the future behavior ensured, by passing a unique label to each axes instance.\n",
      "  ax=fig.add_subplot(111)\n",
      "findfont: Font family ['normal'] not found. Falling back to DejaVu Sans.\n"
     ]
    },
    {
     "name": "stdout",
     "output_type": "stream",
     "text": [
      "SVD_by_EVD decompostion time: 0.20 s\n",
      "7 2048 1024\n",
      "{'QTT_L1': array([0.1  , 0.013, 0.002, 0.   ]), 'QTT_L2': array([0.127, 0.016, 0.002, 0.001]), 'QTT_Linf': array([0.351, 0.056, 0.012, 0.007]), 'SVD_by_EVD': array([1.265e-01, 9.040e-03, 1.546e-03, 3.767e-04, 1.126e-04, 3.870e-05,\n",
      "       1.474e-05])}\n"
     ]
    },
    {
     "data": {
      "image/png": "[encoded data removed]",
      "text/plain": [
       "<Figure size 504x432 with 1 Axes>"
      ]
     },
     "metadata": {
      "needs_background": "light"
     },
     "output_type": "display_data"
    }
   ],
   "source": [
    "from analysis.benchmark_2D import benchmark_2D\n",
    "decomp_methods=[\"QTT_SVD\",\"SVD_by_EVD\"]\n",
    "N=2**11\n",
    "print(N)\n",
    "benchmark_2D(decomp_methods ,shape=[N,N//2], test_function=2, plot=True,\n",
    "                plot_name='',tol=1e-8)"
   ]
  },
  {
   "cell_type": "markdown",
   "metadata": {},
   "source": [
    "## Next development step\n",
    " - test QTT agains other high order decomposition methods\n",
    " -:thick_tickmark: Add norm comparison for all methods $L_1$, $L_2$ and $L_\\infty$ norms as per requested\n",
    " - find and external library to test HT. probably no time, nor point in conding HT"
   ]
  },
  {
   "cell_type": "code",
   "execution_count": 18,
   "metadata": {},
   "outputs": [],
   "source": [
    "from benchmark_multivariable import benchmark_multivariable"
   ]
  },
  {
   "cell_type": "code",
   "execution_count": 35,
   "metadata": {},
   "outputs": [
    {
     "name": "stdout",
     "output_type": "stream",
     "text": [
      "2097152\n",
      "STHO_SVD decompostion time: 0.18 s\n",
      "reshaping to [2, 2, 2, 2, 2, 2, 2, 2, 2, 2, 2, 2, 2, 2, 2, 2, 2, 2, 2, 2, 2]\n",
      "QTT_SVD decompostion time: 0.10 s\n",
      "[1 1 1 1 1 1 1 1 1 1 1 1 1 1 1 1 1 1 1 1 1 1]\n",
      "[1 2 2 2 2 2 2 2 2 2 2 2 2 2 2 2 2 2 2 2 2 1]\n",
      "[1 2 3 3 3 3 3 3 3 3 3 3 3 3 3 3 3 3 3 3 2 1]\n",
      "[1 2 4 4 4 4 4 4 4 4 4 4 4 4 4 4 4 4 4 4 2 1]\n",
      "[1 2 4 5 5 5 5 5 5 5 5 5 5 5 5 5 5 5 5 4 2 1]\n",
      "[1 2 4 6 6 6 6 6 6 6 6 6 6 6 6 6 6 6 6 4 2 1]\n",
      "[1 2 4 7 7 7 7 7 7 7 7 6 7 7 7 7 6 7 6 4 2 1]\n",
      "[1 2 4 8 8 8 8 8 7 7 7 6 8 8 8 8 6 7 6 4 2 1]\n",
      "[1 2 4 8 8 8 8 8 7 7 7 6 9 9 9 9 6 7 6 4 2 1]\n",
      "[ 1  2  4  8  8  8  8  8  7  7  7  6 10 10 10 10  6  7  6  4  2  1]\n",
      "[ 1  2  4  8  8  8  8  8  7  7  7  6 10 11 11 10  6  7  6  4  2  1]\n",
      "[ 1  2  4  8  8  8  8  8  7  7  7  6 10 12 12 10  6  7  6  4  2  1]\n",
      "[ 1  2  4  8  8  8  8  8  7  7  7  6 10 13 13 10  6  7  6  4  2  1]\n",
      "TT_SVD decompostion time: 0.25 s\n",
      "[1 1 1 1]\n",
      "[1 2 2 1]\n",
      "[1 3 3 1]\n",
      "[1 4 4 1]\n",
      "[1 5 5 1]\n"
     ]
    },
    {
     "name": "stderr",
     "output_type": "stream",
     "text": [
      "/home/lestandi/Documents/thesis_light/prog/python/python_decomposition_library/pydecomp/analysis/plot.py:177: MatplotlibDeprecationWarning: Adding an axes using the same arguments as a previous axes currently reuses the earlier instance.  In a future version, a new instance will always be created and returned.  Meanwhile, this warning can be suppressed, and the future behavior ensured, by passing a unique label to each axes instance.\n",
      "  ax=fig.add_subplot(111)\n",
      "/home/lestandi/Documents/thesis_light/prog/python/python_decomposition_library/pydecomp/analysis/plot.py:177: MatplotlibDeprecationWarning: Adding an axes using the same arguments as a previous axes currently reuses the earlier instance.  In a future version, a new instance will always be created and returned.  Meanwhile, this warning can be suppressed, and the future behavior ensured, by passing a unique label to each axes instance.\n",
      "  ax=fig.add_subplot(111)\n",
      "/home/lestandi/Documents/thesis_light/prog/python/python_decomposition_library/pydecomp/analysis/plot.py:177: MatplotlibDeprecationWarning: Adding an axes using the same arguments as a previous axes currently reuses the earlier instance.  In a future version, a new instance will always be created and returned.  Meanwhile, this warning can be suppressed, and the future behavior ensured, by passing a unique label to each axes instance.\n",
      "  ax=fig.add_subplot(111)\n"
     ]
    },
    {
     "data": {
      "image/png": "[encoded data removed]",
      "text/plain": [
       "<Figure size 432x288 with 1 Axes>"
      ]
     },
     "metadata": {
      "needs_background": "light"
     },
     "output_type": "display_data"
    }
   ],
   "source": [
    "    decomp_methods=[\"STHO_SVD\",\"QTT_SVD\",\"TT_SVD\"]\n",
    "    solver=[\"SVD\",\"SVD\",\"SVD\"]\n",
    "    # decomp_methods=[\"RPOD\",\"HO_POD\",\"SHO_POD\",\"TT_SVD\",\"PGD\"]\n",
    "    # solver=[\"trapezes\",\"trapezes\",\"trapezes\",\"SVD\",'trapezes']\n",
    "    shape=[2048,32,32]\n",
    "    N=np.product(shape)\n",
    "    Norm=\"Linf\"\n",
    "    tol=1e-14\n",
    "    print(N)\n",
    "    if N>1e7:\n",
    "        raise Error(\"Warning, N may be too large\")\n",
    "    path=\"/home/lestandi/Documents/thesis_light/prog/python/python_decomposition_library/plots/\"\n",
    "    output=path+\"benchmark_\"+str(shape)+\"_\"+Norm+\"_tol\"+str(tol)+\".pdf\"\n",
    "    benchmark_multivariable(decomp_methods, solver ,shape=shape,\n",
    "                            test_function=1, plot=True,output_decomp='',\n",
    "                            plot_name='',tol=tol,which_norm=Norm)"
   ]
  },
  {
   "cell_type": "markdown",
   "metadata": {},
   "source": [
    "The above benchmarking script shows that QTT is able to greatly reduce the size of the compressed tensor, provided that one of the dimensions (typically the first one, is much larger than the other dimensions. **Add QTT to the paper and state this, when it comes to pure compression (without intent for later use as RB)**"
   ]
  },
  {
   "cell_type": "markdown",
   "metadata": {},
   "source": [
    "# Testing HT\n",
    "I have implemented a simple version of TT, let's see how it runs"
   ]
  },
  {
   "cell_type": "code",
   "execution_count": 6,
   "metadata": {},
   "outputs": [],
   "source": [
    "from pydecomp.core.hierarchical_decomp import *\n",
    "from pydecomp.analysis.plot import *\n",
    "from benchmark_multivariable import benchmark_multivariable"
   ]
  },
  {
   "cell_type": "code",
   "execution_count": 6,
   "metadata": {},
   "outputs": [],
   "source": [
    "n=50\n",
    "x = np.random.random([n, n, n, n])\n",
    "x = np.random.random([30, 5 ,40, 9])\n",
    "eps_list=[1e-1,1e-2]#,1e-4,1e-4,1e-5,1e-6,1e-7,1e-8]\n",
    "error_data, compression_data = HT_build_error_data(x,eps_list,eps_tuck=1e-4,rmax=200,verbose=0)"
   ]
  },
  {
   "cell_type": "code",
   "execution_count": 7,
   "metadata": {},
   "outputs": [
    {
     "name": "stdout",
     "output_type": "stream",
     "text": [
      "[{'L1': [0.4937301825320409, 0.4937301825320409], 'L2': [0.49509949342404913, 0.49509949342404913], 'Linf': [0.6817828005154712, 0.6817828005154712]}, array([0.04833333, 0.04833333])]\n"
     ]
    }
   ],
   "source": [
    "approx_data=[error_data,compression_data]\n",
    "print(approx_data)"
   ]
  },
  {
   "cell_type": "code",
   "execution_count": 7,
   "metadata": {},
   "outputs": [
    {
     "ename": "NameError",
     "evalue": "name 'approx_data' is not defined",
     "output_type": "error",
     "traceback": [
      "\u001b[0;31m---------------------------------------------------------------------------\u001b[0m",
      "\u001b[0;31mNameError\u001b[0m                                 Traceback (most recent call last)",
      "\u001b[0;32m<ipython-input-7-995d35d8e637>\u001b[0m in \u001b[0;36m<module>\u001b[0;34m\u001b[0m\n\u001b[0;32m----> 1\u001b[0;31m \u001b[0mbenchmark_norm_plotter\u001b[0m\u001b[0;34m(\u001b[0m\u001b[0mapprox_data\u001b[0m\u001b[0;34m,\u001b[0m \u001b[0mshow\u001b[0m\u001b[0;34m=\u001b[0m\u001b[0;32mTrue\u001b[0m\u001b[0;34m,\u001b[0m \u001b[0mplot_name\u001b[0m\u001b[0;34m=\u001b[0m\u001b[0;34m\"\"\u001b[0m\u001b[0;34m)\u001b[0m\u001b[0;34m\u001b[0m\u001b[0;34m\u001b[0m\u001b[0m\n\u001b[0m",
      "\u001b[0;31mNameError\u001b[0m: name 'approx_data' is not defined"
     ]
    }
   ],
   "source": [
    "benchmark_norm_plotter(approx_data, show=True, plot_name=\"\")"
   ]
  },
  {
   "cell_type": "code",
   "execution_count": 68,
   "metadata": {},
   "outputs": [
    {
     "name": "stdout",
     "output_type": "stream",
     "text": [
      "1048576\n",
      "({'L1': [0.0005461658233056392, 0.0005461658233056392, 1.415314205970234e-05, 1.415314205970234e-05, 1.415314205970234e-05, 1.415314205970234e-05, 6.233635249858316e-07, 6.233635249858316e-07, 6.233635249858316e-07], 'L2': [0.0007265848685514961, 0.0007265848685514961, 1.9121551879729662e-05, 1.9121551879729662e-05, 1.9121551879729662e-05, 1.9121551879729662e-05, 8.215717529246303e-07, 8.215717529246303e-07, 8.215717529246303e-07], 'Linf': [0.002423231294922251, 0.002423231294922251, 0.00011495926554996871, 0.00011495926554996871, 0.00011495926554996871, 0.00011495926554996871, 1.1802846798053546e-05, 1.1802846798053546e-05, 1.1802846798053546e-05]}, array([0.00415802, 0.00415802, 0.00416183, 0.00416183, 0.00416183,\n",
      "       0.00416183, 0.00416565, 0.00416565, 0.00416565]))\n",
      "HT decompostion time: 0.33 s\n",
      "TT_SVD decompostion time: 0.00 s\n",
      "computing erorr with maxrank=4\n",
      "Sampling parameter set todefault\n",
      "reshaping to [2, 2, 2, 2, 2, 2, 2, 2, 2, 2, 2, 2, 2, 2, 2, 2, 2, 2, 2, 2]\n",
      "QTT_SVD decompostion time: 0.04 s\n",
      "computing erorr with maxrank=7\n",
      "Sampling parameter set todefault\n",
      "[[5.30445253e-02 1.90125252e-02 1.12180120e-03 4.53912946e-04\n",
      "  1.30668600e-04 2.50844194e-05]\n",
      " [3.81469727e-05 1.44958496e-04 3.05175781e-04 5.26428223e-04\n",
      "  7.11441040e-04 7.91549683e-04]]\n",
      "STHO_SVD decompostion time: 0.01 s\n",
      "Sampling parameter set toexponential\n"
     ]
    },
    {
     "name": "stderr",
     "output_type": "stream",
     "text": [
      "/home/lestandi/Documents/thesis_light/prog/python/python_decomposition_library/pydecomp/analysis/plot.py:180: MatplotlibDeprecationWarning: Adding an axes using the same arguments as a previous axes currently reuses the earlier instance.  In a future version, a new instance will always be created and returned.  Meanwhile, this warning can be suppressed, and the future behavior ensured, by passing a unique label to each axes instance.\n",
      "  ax=fig.add_subplot(111)\n",
      "/home/lestandi/Documents/thesis_light/prog/python/python_decomposition_library/pydecomp/analysis/plot.py:180: MatplotlibDeprecationWarning: Adding an axes using the same arguments as a previous axes currently reuses the earlier instance.  In a future version, a new instance will always be created and returned.  Meanwhile, this warning can be suppressed, and the future behavior ensured, by passing a unique label to each axes instance.\n",
      "  ax=fig.add_subplot(111)\n",
      "/home/lestandi/Documents/thesis_light/prog/python/python_decomposition_library/pydecomp/analysis/plot.py:180: MatplotlibDeprecationWarning: Adding an axes using the same arguments as a previous axes currently reuses the earlier instance.  In a future version, a new instance will always be created and returned.  Meanwhile, this warning can be suppressed, and the future behavior ensured, by passing a unique label to each axes instance.\n",
      "  ax=fig.add_subplot(111)\n",
      "/home/lestandi/Documents/thesis_light/prog/python/python_decomposition_library/pydecomp/analysis/plot.py:180: MatplotlibDeprecationWarning: Adding an axes using the same arguments as a previous axes currently reuses the earlier instance.  In a future version, a new instance will always be created and returned.  Meanwhile, this warning can be suppressed, and the future behavior ensured, by passing a unique label to each axes instance.\n",
      "  ax=fig.add_subplot(111)\n"
     ]
    },
    {
     "data": {
      "image/png": "[encoded data removed]",
      "text/plain": [
       "<Figure size 432x288 with 1 Axes>"
      ]
     },
     "metadata": {
      "needs_background": "light"
     },
     "output_type": "display_data"
    }
   ],
   "source": [
    "    decomp_methods=[\"HT\",\"TT_SVD\",\"QTT_SVD\",\"STHO_SVD\"]\n",
    "    solver=[\"SVD\",\"SVD\",\"SVD\",\"SVD\"]\n",
    "    # decomp_methods=[\"RPOD\",\"HO_POD\",\"SHO_POD\",\"TT_SVD\",\"PGD\"]\n",
    "    # solver=[\"trapezes\",\"trapezes\",\"trapezes\",\"SVD\",'trapezes']\n",
    "    shape=[32,1024,32]\n",
    "    #shape=[19,60000,5]\n",
    "#     decomp_methods=[\"QTT_SVD\"]\n",
    "#     solver=[\"SVD\"]\n",
    "#     n=16\n",
    "#     shape=[n for i in range(5)]\n",
    "    N=np.product(shape)\n",
    "    Norm=\"L1\"\n",
    "    tol=1e-8\n",
    "    print(N)\n",
    "    if N>1e8:\n",
    "        raise Error(\"Warning, N may be too large\")\n",
    "    path=\"/home/lestandi/Documents/thesis_light/prog/python/python_decomposition_library/plots/\"\n",
    "    output=path+\"benchmark_\"+str(shape)+\"_\"+Norm+\"_tol\"+str(tol)+\".pdf\"\n",
    "    benchmark_multivariable(decomp_methods, solver ,shape=shape,\n",
    "                            test_function=1, plot=True,output_decomp='',\n",
    "                            plot_name='',tol=tol,which_norm=Norm)\n"
   ]
  },
  {
   "cell_type": "code",
   "execution_count": 73,
   "metadata": {},
   "outputs": [
    {
     "data": {
      "text/plain": [
       "23.0"
      ]
     },
     "execution_count": 73,
     "metadata": {},
     "output_type": "execute_result"
    }
   ],
   "source": [
    "import math\n",
    "math.log(8388608,2)"
   ]
  },
  {
   "cell_type": "code",
   "execution_count": 60,
   "metadata": {},
   "outputs": [],
   "source": [
    "from analysis.numerical_tests import *"
   ]
  },
  {
   "cell_type": "code",
   "execution_count": 70,
   "metadata": {},
   "outputs": [
    {
     "name": "stdout",
     "output_type": "stream",
     "text": [
      "\n",
      " ===================================              \n",
      " Vega function test\n",
      " Case 1 \n",
      " ==============================\n",
      "TT_SVD decompostion time: 0.015 s\n",
      "TT_SVD Full rank reconstruction time: 0.00 s\n",
      "computing erorr with maxrank=11\n",
      "Sampling parameter set todefault\n",
      "TT_SVD Error evaluation time: 0.07 s\n",
      "reshaping to [2, 2, 2, 2, 2, 2, 2, 2, 2, 2, 2, 2, 2, 2, 2, 2, 2, 2, 2, 2]\n",
      "QTT_SVD decompostion time: 0.057 s\n",
      "QTT_SVD Full rank reconstruction time: 0.00 s\n",
      "computing erorr with maxrank=15\n",
      "Sampling parameter set todefault\n",
      "QTT_SVD Error evaluation time: 0.25 s\n",
      "HT decompostion time: 0.238 s\n",
      "HT Full rank reconstruction time: 0.00 s\n",
      "HT Error evaluation time: 0.00 s\n",
      "SHO_SVD decompostion time: 0.010 s\n",
      "SHO_SVD Full rank reconstruction time: 0.02 s\n",
      "Sampling parameter set toexponential\n",
      "SHO_SVD Error evaluation time: 0.08 s\n",
      "\n",
      "True\n"
     ]
    },
    {
     "name": "stderr",
     "output_type": "stream",
     "text": [
      "/home/lestandi/Documents/thesis_light/prog/python/python_decomposition_library/pydecomp/analysis/plot.py:180: MatplotlibDeprecationWarning: Adding an axes using the same arguments as a previous axes currently reuses the earlier instance.  In a future version, a new instance will always be created and returned.  Meanwhile, this warning can be suppressed, and the future behavior ensured, by passing a unique label to each axes instance.\n",
      "  ax.set_xlim(0,xmax)\n",
      "/home/lestandi/Documents/thesis_light/prog/python/python_decomposition_library/pydecomp/analysis/plot.py:180: MatplotlibDeprecationWarning: Adding an axes using the same arguments as a previous axes currently reuses the earlier instance.  In a future version, a new instance will always be created and returned.  Meanwhile, this warning can be suppressed, and the future behavior ensured, by passing a unique label to each axes instance.\n",
      "  ax.set_xlim(0,xmax)\n",
      "/home/lestandi/Documents/thesis_light/prog/python/python_decomposition_library/pydecomp/analysis/plot.py:180: MatplotlibDeprecationWarning: Adding an axes using the same arguments as a previous axes currently reuses the earlier instance.  In a future version, a new instance will always be created and returned.  Meanwhile, this warning can be suppressed, and the future behavior ensured, by passing a unique label to each axes instance.\n",
      "  ax.set_xlim(0,xmax)\n",
      "/home/lestandi/Documents/thesis_light/prog/python/python_decomposition_library/pydecomp/analysis/plot.py:180: MatplotlibDeprecationWarning: Adding an axes using the same arguments as a previous axes currently reuses the earlier instance.  In a future version, a new instance will always be created and returned.  Meanwhile, this warning can be suppressed, and the future behavior ensured, by passing a unique label to each axes instance.\n",
      "  ax.set_xlim(0,xmax)\n"
     ]
    },
    {
     "data": {
      "image/png": "[encoded data removed]",
      "text/plain": [
       "<Figure size 432x288 with 1 Axes>"
      ]
     },
     "metadata": {
      "needs_background": "light"
     },
     "output_type": "display_data"
    }
   ],
   "source": [
    "Vega_test([1])"
   ]
  },
  {
   "cell_type": "code",
   "execution_count": 48,
   "metadata": {},
   "outputs": [
    {
     "name": "stdout",
     "output_type": "stream",
     "text": [
      "/home/lestandi/Documents/thesis_light/prog/python/python_decomposition_library\n"
     ]
    }
   ],
   "source": [
    "!pwd"
   ]
  },
  {
   "cell_type": "code",
   "execution_count": null,
   "metadata": {},
   "outputs": [],
   "source": []
  }
 ],
 "metadata": {
  "kernelspec": {
   "display_name": "Python 3",
   "language": "python",
   "name": "python3"
  },
  "language_info": {
   "codemirror_mode": {
    "name": "ipython",
    "version": 3
   },
   "file_extension": ".py",
   "mimetype": "text/x-python",
   "name": "python",
   "nbconvert_exporter": "python",
   "pygments_lexer": "ipython3",
   "version": "3.8.5"
  }
 },
 "nbformat": 4,
 "nbformat_minor": 4
}
