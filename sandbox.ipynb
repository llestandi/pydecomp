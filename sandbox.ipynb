{
 "cells": [
  {
   "cell_type": "raw",
   "metadata": {},
   "source": [
    "import sys\n",
    "!conda install --yes --prefix {sys.prefix} mkl-devel"
   ]
  },
  {
   "cell_type": "raw",
   "metadata": {},
   "source": [
    "# Install a pip package in the current Jupyter kernel\n",
    "import sys\n",
    "!{sys.executable} -m pip install primme"
   ]
  },
  {
   "cell_type": "code",
   "execution_count": 1,
   "metadata": {},
   "outputs": [],
   "source": [
    "#adding pydecomp \n",
    "%load_ext autoreload\n",
    "%autoreload 2\n",
    "import sys\n",
    "sys.path.insert(0, \"/home/lestandi/Documents/thesis_light/prog/python/python_decomposition_library/pydecomp/\")\n",
    "sys.path.insert(0, \"/home/lestandi/Documents/thesis_light/prog/python/python_decomposition_library/pydecomp/core/\")\n",
    "sys.path.insert(0, \"/home/lestandi/Documents/thesis_light/prog/python/python_decomposition_library/pydecomp/utils/\")\n",
    "sys.path.insert(0, \"/home/lestandi/Documents/thesis_light/prog/python/python_decomposition_library/pydecomp/analysis/\")\n",
    "sys.path.insert(0, \"/home/lestandi/Documents/thesis_light/prog/python/python_decomposition_library/pydecomp/\")"
   ]
  },
  {
   "cell_type": "code",
   "execution_count": 5,
   "metadata": {},
   "outputs": [],
   "source": [
    "from pydecomp.core.TSVD import TSVD\n",
    "import numpy as np"
   ]
  },
  {
   "cell_type": "code",
   "execution_count": 6,
   "metadata": {},
   "outputs": [
    {
     "name": "stdout",
     "output_type": "stream",
     "text": [
      "\n",
      " Testing SVD with random matrix\n",
      "\n",
      "\n",
      " --------------SVD by EVD computing time {} 0.06543660163879395\n",
      "r=5\n",
      "sigma[:5]= [[1118.8410914 ]\n",
      " [  35.17541418]\n",
      " [  35.17071209]\n",
      " [  35.06422143]\n",
      " [  34.99602472]]\n",
      "\n",
      " Should be small : 640.8403067184277\n",
      "Selected PRIMME_SVDS solver. This solver is iterative and best               suited for sparse tall skinny matrices. High accuracy requirement               may lead to intractable CPU times.\n",
      "\n",
      " --------------PRIMME_SVDs computing time {} 0.8423922061920166\n",
      "r=5\n",
      "sigma[:5]= [[1118.8410914 ]\n",
      " [  35.17541411]\n",
      " [  35.17071208]\n",
      " [  35.0642213 ]\n",
      " [  34.9960245 ]]\n",
      "\n",
      " Should be small : 640.8403067422745\n"
     ]
    }
   ],
   "source": [
    "    #test procedure for the standard numpy matrix SVD\n",
    "    from time import time\n",
    "    print(\"\\n Testing SVD with random matrix\\n\")\n",
    "    n,m=10000,500\n",
    "    F=np.random.rand(n,m)\n",
    "    # F=np.reshape(np.arange(n*m),(n,m))\n",
    "\n",
    "    t=time()\n",
    "    phi, sigma, A=TSVD(F,solver='EVD',rank=5)\n",
    "    print('\\n --------------SVD by EVD computing time {}',time()-t)\n",
    "    # print(\"\\nEVD\\n----------- \\nphi :\\n {}\\n sigma:\\n {} \\n A:\\n {}\".format(phi, sigma, A))\n",
    "    r=sigma.size\n",
    "    sigma=np.reshape(sigma,[r,1])\n",
    "    F_approx = phi@(sigma*A.T)\n",
    "    err=np.linalg.norm(F_approx-F)\n",
    "    print(\"r={}\".format(r))\n",
    "    print(\"sigma[:5]=\",sigma[0:5])\n",
    "    print(\"\\n Should be small : {}\".format(err))    \n",
    "    \n",
    "    t=time()\n",
    "    phi, sigma, A=TSVD(F,solver='PRIMME',rank=5,epsilon=1e-6)\n",
    "    print('\\n --------------PRIMME_SVDs computing time {}',time()-t)\n",
    "    # print(\"\\nEVD\\n----------- \\nphi :\\n {}\\n sigma:\\n {} \\n A:\\n {}\".format(phi, sigma, A))\n",
    "    r=sigma.size\n",
    "    sigma=np.reshape(sigma,[r,1])\n",
    "    F_approx = phi@(sigma*A.T)\n",
    "    err=np.linalg.norm(F_approx-F)\n",
    "    print(\"r={}\".format(r))\n",
    "    print(\"sigma[:5]=\",sigma[0:5])\n",
    "    print(\"\\n Should be small : {}\".format(err))"
   ]
  },
  {
   "cell_type": "code",
   "execution_count": 7,
   "metadata": {},
   "outputs": [
    {
     "name": "stdout",
     "output_type": "stream",
     "text": [
      "[1118.8410914    35.17541418   35.17071209   35.06422143   34.99602472]\n",
      "1.6952910423278809 557\n"
     ]
    }
   ],
   "source": [
    "import scipy\n",
    "import primme\n",
    "# Sparse random rectangular matrix 10^5x100\n",
    "#A = scipy.sparse.rand(100000, 100, density=1., random_state=10)\n",
    "#print(A.size)\n",
    "# Compute the three closest singular values to 6.0 with a tolerance of 1e-6\n",
    "svecs_left, svals, svecs_right, stats = primme.svds(F, 5, which='LM',\n",
    "                                                    return_stats=True)\n",
    "A_svals = svals\n",
    "print(svals)\n",
    "print(stats[\"elapsedTime\"], stats[\"numMatvecs\"])"
   ]
  },
  {
   "cell_type": "code",
   "execution_count": 8,
   "metadata": {},
   "outputs": [
    {
     "data": {
      "text/plain": [
       "array([ 8.12889970e-16, -1.75850560e-09, -4.22915484e-10, -3.78410090e-09,\n",
       "       -6.47468072e-09])"
      ]
     },
     "execution_count": 8,
     "metadata": {},
     "output_type": "execute_result"
    }
   ],
   "source": [
    "(sigma[:,0]-svals)/sigma[:,0]"
   ]
  },
  {
   "cell_type": "code",
   "execution_count": 9,
   "metadata": {},
   "outputs": [
    {
     "name": "stdout",
     "output_type": "stream",
     "text": [
      "phi orthog test\n",
      "[[ 1.000e+00  5.812e-15  1.739e-15  2.187e-15 -4.481e-15]\n",
      " [ 5.812e-15  1.000e+00 -1.442e-14 -7.711e-14 -8.813e-14]\n",
      " [ 1.739e-15 -1.442e-14  1.000e+00  9.457e-14 -4.911e-14]\n",
      " [ 2.187e-15 -7.711e-14  9.457e-14  1.000e+00  1.834e-14]\n",
      " [-4.481e-15 -8.813e-14 -4.911e-14  1.834e-14  1.000e+00]]\n",
      "svecs orthog test\n",
      "[[ 1.000e+00 -1.553e-14 -2.447e-15  8.853e-15  1.870e-15]\n",
      " [-1.553e-14  1.000e+00 -4.468e-13  2.410e-13  5.088e-14]\n",
      " [-2.447e-15 -4.468e-13  1.000e+00 -3.055e-13 -4.130e-14]\n",
      " [ 8.853e-15  2.410e-13 -3.055e-13  1.000e+00 -1.053e-13]\n",
      " [ 1.870e-15  5.088e-14 -4.130e-14 -1.053e-13  1.000e+00]]\n",
      "v orthog test\n",
      "[[ 1.000e+00  2.671e-16  1.733e-16  5.464e-17  1.561e-16]\n",
      " [ 2.671e-16  1.000e+00  1.058e-15  6.384e-16  1.377e-15]\n",
      " [ 1.733e-16  1.058e-15  1.000e+00 -1.596e-16 -1.839e-16]\n",
      " [ 5.464e-17  6.384e-16 -1.596e-16  1.000e+00 -8.847e-17]\n",
      " [ 1.561e-16  1.377e-15 -1.839e-16 -8.847e-17  1.000e+00]]\n",
      "svecs orthog test\n",
      "[[ 1.000e+00  1.769e-16 -5.352e-16  3.999e-16 -3.886e-16]\n",
      " [ 1.769e-16  1.000e+00 -1.226e-15  1.377e-15  4.927e-16]\n",
      " [-5.352e-16 -1.226e-15  1.000e+00  1.471e-15  7.563e-16]\n",
      " [ 3.999e-16  1.377e-15  1.471e-15  1.000e+00  2.359e-16]\n",
      " [-3.886e-16  4.927e-16  7.563e-16  2.359e-16  1.000e+00]]\n"
     ]
    }
   ],
   "source": [
    "np.set_printoptions(precision=3)\n",
    "print(\"phi orthog test\")\n",
    "print(phi.T@phi)\n",
    "print(\"svecs orthog test\")\n",
    "print(svecs_left.T@svecs_left)\n",
    "\n",
    "print(\"v orthog test\")\n",
    "print(A.T@A)\n",
    "print(\"svecs orthog test\")\n",
    "print(svecs_right@svecs_right.T)"
   ]
  },
  {
   "cell_type": "code",
   "execution_count": 10,
   "metadata": {},
   "outputs": [
    {
     "data": {
      "text/plain": [
       "(128, 64)"
      ]
     },
     "execution_count": 10,
     "metadata": {},
     "output_type": "execute_result"
    }
   ],
   "source": [
    "import math\n",
    "import numpy as np\n",
    "q=2\n",
    "shape=[65,64]\n",
    "size=np.product(shape)\n",
    "D=int(round(math.log( size, q )))\n",
    "new_shape=[q] * D\n",
    "tuple( [ q**(int(math.log(s-0.5,q))+1) for s in shape ] )"
   ]
  },
  {
   "cell_type": "code",
   "execution_count": 11,
   "metadata": {},
   "outputs": [
    {
     "name": "stdout",
     "output_type": "stream",
     "text": [
      "[2, 2, 2, 2, 2, 2, 2, 2, 2, 2, 2, 2]\n"
     ]
    }
   ],
   "source": [
    "print(new_shape)"
   ]
  },
  {
   "cell_type": "code",
   "execution_count": 12,
   "metadata": {},
   "outputs": [],
   "source": [
    "A=np.ones(new_shape)"
   ]
  },
  {
   "cell_type": "code",
   "execution_count": 13,
   "metadata": {},
   "outputs": [],
   "source": [
    "B=np.ones(shape)"
   ]
  },
  {
   "cell_type": "code",
   "execution_count": 14,
   "metadata": {},
   "outputs": [
    {
     "data": {
      "text/plain": [
       "False"
      ]
     },
     "execution_count": 14,
     "metadata": {},
     "output_type": "execute_result"
    }
   ],
   "source": [
    "A.size==B.size"
   ]
  },
  {
   "cell_type": "code",
   "execution_count": 15,
   "metadata": {},
   "outputs": [
    {
     "data": {
      "text/plain": [
       "False"
      ]
     },
     "execution_count": 15,
     "metadata": {},
     "output_type": "execute_result"
    }
   ],
   "source": [
    "(math.log( size, q )).is_integer()"
   ]
  },
  {
   "cell_type": "code",
   "execution_count": null,
   "metadata": {},
   "outputs": [],
   "source": []
  },
  {
   "cell_type": "code",
   "execution_count": 44,
   "metadata": {},
   "outputs": [],
   "source": [
    "from pydecomp.core import QuanticsTT"
   ]
  },
  {
   "cell_type": "code",
   "execution_count": 48,
   "metadata": {},
   "outputs": [
    {
     "name": "stdout",
     "output_type": "stream",
     "text": [
      "reshaping to [2, 2, 2, 2, 2, 2, 2, 2, 2, 2, 2, 2, 2, 2, 2, 2, 2, 2]\n",
      "[1 1 1 1 1 1 1 1 1 1 1 1 1 1 1 1 1 1 1]\n",
      "[1 2 2 2 2 2 2 2 2 2 2 2 2 2 2 2 2 2 1]\n",
      "[1 2 3 3 3 3 3 3 3 3 3 3 3 3 3 3 3 2 1]\n",
      "[1 2 4 4 4 4 4 4 4 4 4 4 4 4 4 4 4 2 1]\n",
      "[1 2 4 5 5 5 5 5 5 5 5 5 5 5 5 5 4 2 1]\n",
      "[1 2 4 6 6 6 6 6 6 6 6 6 6 6 6 6 4 2 1]\n",
      "[1 2 4 7 7 7 7 7 7 7 7 7 7 7 7 7 4 2 1]\n",
      "[1 2 4 8 8 8 8 8 8 8 8 8 8 8 8 8 4 2 1]\n",
      "[1 2 4 8 9 9 9 9 9 9 9 9 9 9 9 8 4 2 1]\n",
      "[ 1  2  4  8 10 10 10 10 10 10 10 10 10 10 10  8  4  2  1]\n",
      "[ 1  2  4  8 15 15 15 15 15 15 15 15 15 15 15  8  4  2  1]\n",
      "[ 1  2  4  8 16 20 20 20 20 20 20 20 20 20 16  8  4  2  1]\n",
      "[ 1  2  4  8 16 25 25 25 25 25 25 25 25 25 16  8  4  2  1]\n",
      "[ 1  2  4  8 16 30 30 30 30 30 30 30 30 30 16  8  4  2  1]\n",
      "[ 1  2  4  8 16 32 35 35 35 35 35 35 35 32 16  8  4  2  1]\n",
      "[ 1  2  4  8 16 32 40 40 40 40 40 40 40 32 16  8  4  2  1]\n",
      "[ 1  2  4  8 16 32 50 50 50 50 50 50 50 32 16  8  4  2  1]\n",
      "[ 1  2  4  8 16 32 60 60 60 60 60 60 60 32 16  8  4  2  1]\n",
      "[ 1  2  4  8 16 32 64 70 70 70 70 70 64 32 16  8  4  2  1]\n",
      "[ 1  2  4  8 16 32 64 80 80 80 80 80 64 32 16  8  4  2  1]\n",
      "[ 1  2  4  8 16 32 64 90 90 90 90 90 64 32 16  8  4  2  1]\n",
      "[  1   2   4   8  16  32  64 100 100 100 100 100  64  32  16   8   4   2\n",
      "   1]\n",
      "[  1   2   4   8  16  32  64 120 120 120 120 120  64  32  16   8   4   2\n",
      "   1]\n",
      "[  1   2   4   8  16  32  64 128 140 140 140 128  64  32  16   8   4   2\n",
      "   1]\n",
      "[  1   2   4   8  16  32  64 128 160 160 160 128  64  32  16   8   4   2\n",
      "   1]\n",
      "[  1   2   4   8  16  32  64 128 180 180 180 128  64  32  16   8   4   2\n",
      "   1]\n",
      "[  1   2   4   8  16  32  64 128 200 200 200 128  64  32  16   8   4   2\n",
      "   1]\n",
      "[  1   2   4   8  16  32  64 128 220 220 220 128  64  32  16   8   4   2\n",
      "   1]\n",
      "[  1   2   4   8  16  32  64 128 240 240 240 128  64  32  16   8   4   2\n",
      "   1]\n",
      "[  1   2   4   8  16  32  64 128 256 260 256 128  64  32  16   8   4   2\n",
      "   1]\n",
      "[  1   2   4   8  16  32  64 128 256 280 256 128  64  32  16   8   4   2\n",
      "   1]\n",
      "[  1   2   4   8  16  32  64 128 256 300 256 128  64  32  16   8   4   2\n",
      "   1]\n",
      "[  1   2   4   8  16  32  64 128 256 350 256 128  64  32  16   8   4   2\n",
      "   1]\n",
      "[  1   2   4   8  16  32  64 128 256 400 256 128  64  32  16   8   4   2\n",
      "   1]\n",
      "[  1   2   4   8  16  32  64 128 256 450 256 128  64  32  16   8   4   2\n",
      "   1]\n",
      "[  1   2   4   8  16  32  64 128 256 499 256 128  64  32  16   8   4   2\n",
      "   1]\n",
      "QuanticsTT\n",
      "ndim=3\n",
      "original_shape=(64, 64, 64)\n",
      "q=2\n",
      "qshape=[2, 2, 2, 2, 2, 2, 2, 2, 2, 2, 2, 2, 2, 2, 2, 2, 2, 2]\n",
      "-------------------------------------------\n",
      "Approx_data rank=\n",
      "[1, 2, 4, 8, 16, 32, 64, 128, 256, 499, 256, 128, 64, 32, 16, 8, 4, 2, 1]\n",
      "\n",
      "[1.373e-04 5.188e-04 1.083e-03 1.862e-03 2.747e-03 3.815e-03 5.066e-03\n",
      " 6.500e-03 7.919e-03 9.491e-03 1.964e-02 3.189e-02 4.684e-02 6.485e-02\n",
      " 8.357e-02 1.032e-01 1.493e-01 2.045e-01 2.596e-01 3.151e-01 3.767e-01\n",
      " 4.445e-01 5.983e-01 7.392e-01 8.698e-01 1.013e+00 1.168e+00 1.335e+00\n",
      " 1.514e+00 1.682e+00 1.760e+00 1.839e+00 2.034e+00 2.229e+00 2.424e+00\n",
      " 2.616e+00]\n"
     ]
    },
    {
     "name": "stderr",
     "output_type": "stream",
     "text": [
      "/home/lestandi/Documents/thesis_light/prog/python/python_decomposition_library/pydecomp/analysis/plot.py:229: MatplotlibDeprecationWarning: Adding an axes using the same arguments as a previous axes currently reuses the earlier instance.  In a future version, a new instance will always be created and returned.  Meanwhile, this warning can be suppressed, and the future behavior ensured, by passing a unique label to each axes instance.\n",
      "  ax=fig.add_subplot(111)\n",
      "/home/lestandi/Documents/thesis_light/prog/python/python_decomposition_library/pydecomp/analysis/plot.py:229: MatplotlibDeprecationWarning: Adding an axes using the same arguments as a previous axes currently reuses the earlier instance.  In a future version, a new instance will always be created and returned.  Meanwhile, this warning can be suppressed, and the future behavior ensured, by passing a unique label to each axes instance.\n",
      "  ax=fig.add_subplot(111)\n",
      "/home/lestandi/Documents/thesis_light/prog/python/python_decomposition_library/pydecomp/analysis/plot.py:229: MatplotlibDeprecationWarning: Adding an axes using the same arguments as a previous axes currently reuses the earlier instance.  In a future version, a new instance will always be created and returned.  Meanwhile, this warning can be suppressed, and the future behavior ensured, by passing a unique label to each axes instance.\n",
      "  ax=fig.add_subplot(111)\n"
     ]
    },
    {
     "data": {
      "image/png": "[encoded data removed]",
      "text/plain": [
       "<Figure size 432x288 with 1 Axes>"
      ]
     },
     "metadata": {
      "needs_background": "light"
     },
     "output_type": "display_data"
    }
   ],
   "source": [
    "QuanticsTT.run_test()"
   ]
  },
  {
   "cell_type": "code",
   "execution_count": 42,
   "metadata": {},
   "outputs": [],
   "source": [
    "qA = QuanticsTT.QuanticsTensor(np.ones((64,64)))"
   ]
  },
  {
   "cell_type": "code",
   "execution_count": 19,
   "metadata": {},
   "outputs": [
    {
     "data": {
      "text/plain": [
       "True"
      ]
     },
     "execution_count": 19,
     "metadata": {},
     "output_type": "execute_result"
    }
   ],
   "source": [
    "type(qA)==QuanticsTT.QuanticsTensor"
   ]
  },
  {
   "cell_type": "markdown",
   "metadata": {},
   "source": [
    "## Benchmarking QTT\n",
    "Comparing QTT against standard 2D decomposition methods for separable functions produces intersting results. The approximation accuracy is slightly lower for fixed range because of what I would call edge effect. On the other hand for space size larger than $2^{10}$, the decomposition becomes faster, by orders of magnitude and the compression rate extremely small (as shown below). Typicall compression values are in $O(10^{-5})$ for $\\varepsilon = 10^{-3}$."
   ]
  },
  {
   "cell_type": "code",
   "execution_count": 58,
   "metadata": {},
   "outputs": [
    {
     "name": "stdout",
     "output_type": "stream",
     "text": [
      "2048\n",
      "reshaping to [2, 2, 2, 2, 2, 2, 2, 2, 2, 2, 2, 2, 2, 2, 2, 2, 2, 2, 2, 2, 2]\n",
      "[1 1 1 1 1 1 1 1 1 1 1 1 1 1 1 1 1 1 1 1 1 1]\n",
      "[1 2 2 2 2 2 2 2 2 2 2 2 2 2 2 2 2 2 2 2 2 1]\n",
      "[1 2 3 3 3 3 3 3 3 3 3 3 3 3 3 3 3 3 3 3 2 1]\n",
      "[1 2 4 4 4 4 4 4 4 4 4 4 4 4 4 4 4 4 4 4 2 1]\n",
      "[1 2 4 5 5 5 5 5 5 5 5 5 5 5 5 5 5 5 4 4 2 1]\n",
      "[1 2 4 6 6 6 6 6 6 6 6 6 6 6 6 5 5 5 4 4 2 1]\n",
      "[1 2 4 7 7 7 7 7 7 7 7 7 7 7 6 5 5 5 4 4 2 1]\n",
      "[1 2 4 8 8 8 8 8 8 8 8 7 7 7 6 5 5 5 4 4 2 1]\n",
      "QTT_SVD decompostion time: 0.47 s\n",
      "({'L1': [0.04221833254670512, 0.005260884112350912, 0.00017661599513721368, 1.6134099923476037e-05, 8.745115584244834e-07, 8.877695905757059e-08, 1.120980496261606e-08, 1.8907142023306017e-09], 'L2': [0.05197696505775145, 0.0064190175714365595, 0.00022558357998523474, 2.13330671250011e-05, 1.1216553433911932e-06, 1.1750274568625965e-07, 1.4541877724309193e-08, 2.4461930674030897e-09], 'Linf': [0.1204378052103231, 0.026175366597861682, 0.0011258419109473339, 8.14641261026594e-05, 5.048220669934267e-06, 6.077469854037787e-07, 8.56761166456721e-08, 2.0667293321174895e-08]}, array([2.003e-05, 7.629e-05, 1.612e-04, 2.785e-04, 4.063e-04, 5.302e-04,\n",
      "       6.638e-04, 7.744e-04]))\n",
      "SVD_by_EVD decompostion time: 0.14 s\n",
      "12 2048 1024\n",
      "{'QTT_L1': array([4.222e-02, 5.261e-03, 1.766e-04, 1.613e-05, 8.745e-07, 8.878e-08,\n",
      "       1.121e-08, 1.891e-09]), 'QTT_L2': array([5.198e-02, 6.419e-03, 2.256e-04, 2.133e-05, 1.122e-06, 1.175e-07,\n",
      "       1.454e-08, 2.446e-09]), 'QTT_Linf': array([1.204e-01, 2.618e-02, 1.126e-03, 8.146e-05, 5.048e-06, 6.077e-07,\n",
      "       8.568e-08, 2.067e-08]), 'SVD_by_EVD': array([2.381e-02, 4.515e-04, 8.275e-06, 1.503e-07, 2.794e-09, 2.792e-09,\n",
      "       2.787e-09, 2.787e-09, 2.783e-09, 2.783e-09, 2.772e-09, 2.752e-09])}\n"
     ]
    },
    {
     "name": "stderr",
     "output_type": "stream",
     "text": [
      "/home/lestandi/Documents/thesis_light/prog/python/python_decomposition_library/pydecomp/analysis/plot.py:115: MatplotlibDeprecationWarning: Adding an axes using the same arguments as a previous axes currently reuses the earlier instance.  In a future version, a new instance will always be created and returned.  Meanwhile, this warning can be suppressed, and the future behavior ensured, by passing a unique label to each axes instance.\n",
      "  ax=fig.add_subplot(111)\n",
      "/home/lestandi/Documents/thesis_light/prog/python/python_decomposition_library/pydecomp/analysis/plot.py:115: MatplotlibDeprecationWarning: Adding an axes using the same arguments as a previous axes currently reuses the earlier instance.  In a future version, a new instance will always be created and returned.  Meanwhile, this warning can be suppressed, and the future behavior ensured, by passing a unique label to each axes instance.\n",
      "  ax=fig.add_subplot(111)\n",
      "/home/lestandi/Documents/thesis_light/prog/python/python_decomposition_library/pydecomp/analysis/plot.py:115: MatplotlibDeprecationWarning: Adding an axes using the same arguments as a previous axes currently reuses the earlier instance.  In a future version, a new instance will always be created and returned.  Meanwhile, this warning can be suppressed, and the future behavior ensured, by passing a unique label to each axes instance.\n",
      "  ax=fig.add_subplot(111)\n",
      "/home/lestandi/Documents/thesis_light/prog/python/python_decomposition_library/pydecomp/analysis/plot.py:115: MatplotlibDeprecationWarning: Adding an axes using the same arguments as a previous axes currently reuses the earlier instance.  In a future version, a new instance will always be created and returned.  Meanwhile, this warning can be suppressed, and the future behavior ensured, by passing a unique label to each axes instance.\n",
      "  ax=fig.add_subplot(111)\n"
     ]
    },
    {
     "data": {
      "image/png": "[encoded data removed]",
      "text/plain": [
       "<Figure size 504x432 with 1 Axes>"
      ]
     },
     "metadata": {
      "needs_background": "light"
     },
     "output_type": "display_data"
    }
   ],
   "source": [
    "from analysis.benchmark_2D import benchmark_2D\n",
    "decomp_methods=[\"QTT_SVD\",\"SVD_by_EVD\"]\n",
    "N=2**11\n",
    "print(N)\n",
    "benchmark_2D(decomp_methods ,shape=[N,N//2], test_function=1, plot=True,\n",
    "                plot_name='',tol=1e-16)"
   ]
  },
  {
   "cell_type": "markdown",
   "metadata": {},
   "source": [
    "## Next development step\n",
    " - test QTT agains other high order decomposition methods\n",
    " - Include $L_1$, $L_2$ and $L_\\infty$ norms as per requested\n",
    " - find and external library to test HT. probably no time, nor point in conding HT"
   ]
  },
  {
   "cell_type": "code",
   "execution_count": null,
   "metadata": {},
   "outputs": [],
   "source": []
  },
  {
   "cell_type": "code",
   "execution_count": null,
   "metadata": {},
   "outputs": [],
   "source": []
  }
 ],
 "metadata": {
  "kernelspec": {
   "display_name": "Python 3",
   "language": "python",
   "name": "python3"
  },
  "language_info": {
   "codemirror_mode": {
    "name": "ipython",
    "version": 3
   },
   "file_extension": ".py",
   "mimetype": "text/x-python",
   "name": "python",
   "nbconvert_exporter": "python",
   "pygments_lexer": "ipython3",
   "version": "3.8.3"
  }
 },
 "nbformat": 4,
 "nbformat_minor": 4
}
