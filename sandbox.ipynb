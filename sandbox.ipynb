{
 "cells": [
  {
   "cell_type": "raw",
   "metadata": {},
   "source": [
    "import sys\n",
    "!conda install --yes --prefix {sys.prefix} mkl-devel"
   ]
  },
  {
   "cell_type": "raw",
   "metadata": {},
   "source": [
    "# Install a pip package in the current Jupyter kernel\n",
    "import sys\n",
    "!{sys.executable} -m pip install primme"
   ]
  },
  {
   "cell_type": "code",
   "execution_count": 16,
   "metadata": {},
   "outputs": [
    {
     "name": "stdout",
     "output_type": "stream",
     "text": [
      "The autoreload extension is already loaded. To reload it, use:\n",
      "  %reload_ext autoreload\n"
     ]
    }
   ],
   "source": [
    "#adding pydecomp \n",
    "%load_ext autoreload\n",
    "%autoreload 2\n",
    "import sys\n",
    "sys.path.insert(0, \"/home/lestandi/Documents/thesis_light/prog/python/python_decomposition_library/pydecomp/\")\n",
    "sys.path.insert(0, \"/home/lestandi/Documents/thesis_light/prog/python/python_decomposition_library/pydecomp/core/\")\n",
    "sys.path.insert(0, \"/home/lestandi/Documents/thesis_light/prog/python/python_decomposition_library/pydecomp/utils/\")\n",
    "sys.path.insert(0, \"/home/lestandi/Documents/thesis_light/prog/python/python_decomposition_library/pydecomp/analysis/\")\n",
    "sys.path.insert(0, \"/home/lestandi/Documents/thesis_light/prog/python/python_decomposition_library/pydecomp/\")"
   ]
  },
  {
   "cell_type": "code",
   "execution_count": 2,
   "metadata": {},
   "outputs": [],
   "source": [
    "from pydecomp.core.TSVD import TSVD\n",
    "import numpy as np"
   ]
  },
  {
   "cell_type": "code",
   "execution_count": 3,
   "metadata": {},
   "outputs": [
    {
     "name": "stdout",
     "output_type": "stream",
     "text": [
      "\n",
      " Testing SVD with random matrix\n",
      "\n",
      "\n",
      " --------------SVD by EVD computing time {} 0.07645368576049805\n",
      "r=5\n",
      "sigma[:5]= [[1118.44006348]\n",
      " [  35.21595945]\n",
      " [  35.20563511]\n",
      " [  35.13662491]\n",
      " [  34.97656243]]\n",
      "\n",
      " Should be small : 641.0142319644116\n",
      "Selected PRIMME_SVDS solver. This solver is iterative and best               suited for sparse tall skinny matrices. High accuracy requirement               may lead to intractable CPU times.\n",
      "\n",
      " --------------PRIMME_SVDs computing time {} 0.9647002220153809\n",
      "r=5\n",
      "sigma[:5]= [[1118.44006348]\n",
      " [  35.21595945]\n",
      " [  35.20563508]\n",
      " [  35.13662489]\n",
      " [  34.97656225]]\n",
      "\n",
      " Should be small : 641.014231977119\n"
     ]
    }
   ],
   "source": [
    "    #test procedure for the standard numpy matrix SVD\n",
    "    from time import time\n",
    "    print(\"\\n Testing SVD with random matrix\\n\")\n",
    "    n,m=10000,500\n",
    "    F=np.random.rand(n,m)\n",
    "    # F=np.reshape(np.arange(n*m),(n,m))\n",
    "\n",
    "    t=time()\n",
    "    phi, sigma, A=TSVD(F,solver='EVD',rank=5)\n",
    "    print('\\n --------------SVD by EVD computing time {}',time()-t)\n",
    "    # print(\"\\nEVD\\n----------- \\nphi :\\n {}\\n sigma:\\n {} \\n A:\\n {}\".format(phi, sigma, A))\n",
    "    r=sigma.size\n",
    "    sigma=np.reshape(sigma,[r,1])\n",
    "    F_approx = phi@(sigma*A.T)\n",
    "    err=np.linalg.norm(F_approx-F)\n",
    "    print(\"r={}\".format(r))\n",
    "    print(\"sigma[:5]=\",sigma[0:5])\n",
    "    print(\"\\n Should be small : {}\".format(err))    \n",
    "    \n",
    "    t=time()\n",
    "    phi, sigma, A=TSVD(F,solver='PRIMME',rank=5,epsilon=1e-6)\n",
    "    print('\\n --------------PRIMME_SVDs computing time {}',time()-t)\n",
    "    # print(\"\\nEVD\\n----------- \\nphi :\\n {}\\n sigma:\\n {} \\n A:\\n {}\".format(phi, sigma, A))\n",
    "    r=sigma.size\n",
    "    sigma=np.reshape(sigma,[r,1])\n",
    "    F_approx = phi@(sigma*A.T)\n",
    "    err=np.linalg.norm(F_approx-F)\n",
    "    print(\"r={}\".format(r))\n",
    "    print(\"sigma[:5]=\",sigma[0:5])\n",
    "    print(\"\\n Should be small : {}\".format(err))"
   ]
  },
  {
   "cell_type": "code",
   "execution_count": 4,
   "metadata": {},
   "outputs": [
    {
     "name": "stdout",
     "output_type": "stream",
     "text": [
      "[1118.44006348   35.21595945   35.20563511   35.13662491   34.97656243]\n",
      "1.8502142429351807 573\n"
     ]
    }
   ],
   "source": [
    "import scipy\n",
    "import primme\n",
    "# Sparse random rectangular matrix 10^5x100\n",
    "#A = scipy.sparse.rand(100000, 100, density=1., random_state=10)\n",
    "#print(A.size)\n",
    "# Compute the three closest singular values to 6.0 with a tolerance of 1e-6\n",
    "svecs_left, svals, svecs_right, stats = primme.svds(F, 5, which='LM',\n",
    "                                                    return_stats=True)\n",
    "A_svals = svals\n",
    "print(svals)\n",
    "print(stats[\"elapsedTime\"], stats[\"numMatvecs\"])"
   ]
  },
  {
   "cell_type": "code",
   "execution_count": 5,
   "metadata": {},
   "outputs": [
    {
     "data": {
      "text/plain": [
       "array([-1.82965824e-15, -8.67155295e-11, -9.08341609e-10, -6.81143686e-10,\n",
       "       -4.96140597e-09])"
      ]
     },
     "execution_count": 5,
     "metadata": {},
     "output_type": "execute_result"
    }
   ],
   "source": [
    "(sigma[:,0]-svals)/sigma[:,0]"
   ]
  },
  {
   "cell_type": "code",
   "execution_count": 7,
   "metadata": {},
   "outputs": [
    {
     "name": "stdout",
     "output_type": "stream",
     "text": [
      "phi orthog test\n",
      "[[ 1.000e+00  7.536e-15 -2.962e-15  2.091e-15 -5.091e-15]\n",
      " [ 7.536e-15  1.000e+00 -1.334e-13  5.472e-14  1.150e-14]\n",
      " [-2.962e-15 -1.334e-13  1.000e+00  7.124e-14  6.795e-14]\n",
      " [ 2.091e-15  5.472e-14  7.124e-14  1.000e+00 -1.975e-14]\n",
      " [-5.091e-15  1.150e-14  6.795e-14 -1.975e-14  1.000e+00]]\n",
      "svecs orthog test\n",
      "[[ 1.000e+00 -2.601e-15  5.374e-15  4.714e-15 -3.448e-15]\n",
      " [-2.601e-15  1.000e+00  2.507e-13  3.152e-14  3.366e-14]\n",
      " [ 5.374e-15  2.507e-13  1.000e+00  7.362e-14 -8.981e-14]\n",
      " [ 4.714e-15  3.152e-14  7.362e-14  1.000e+00 -2.804e-14]\n",
      " [-3.448e-15  3.366e-14 -8.981e-14 -2.804e-14  1.000e+00]]\n",
      "v orthog test\n",
      "[[ 1.000e+00 -1.683e-16 -2.359e-16  1.874e-16 -2.515e-17]\n",
      " [-1.683e-16  1.000e+00 -1.154e-15  4.580e-16  1.041e-17]\n",
      " [-2.359e-16 -1.154e-15  1.000e+00  1.745e-15 -3.678e-16]\n",
      " [ 1.874e-16  4.580e-16  1.745e-15  1.000e+00  1.180e-16]\n",
      " [-2.515e-17  1.041e-17 -3.678e-16  1.180e-16  1.000e+00]]\n",
      "svecs orthog test\n",
      "[[ 1.000e+00 -1.128e-16  4.319e-16  4.025e-16  4.276e-16]\n",
      " [-1.128e-16  1.000e+00 -5.378e-16  1.020e-15 -2.463e-16]\n",
      " [ 4.319e-16 -5.378e-16  1.000e+00  3.028e-15 -2.359e-16]\n",
      " [ 4.025e-16  1.020e-15  3.028e-15  1.000e+00 -6.245e-16]\n",
      " [ 4.276e-16 -2.463e-16 -2.359e-16 -6.245e-16  1.000e+00]]\n"
     ]
    }
   ],
   "source": [
    "np.set_printoptions(precision=3)\n",
    "print(\"phi orthog test\")\n",
    "print(phi.T@phi)\n",
    "print(\"svecs orthog test\")\n",
    "print(svecs_left.T@svecs_left)\n",
    "\n",
    "print(\"v orthog test\")\n",
    "print(A.T@A)\n",
    "print(\"svecs orthog test\")\n",
    "print(svecs_right@svecs_right.T)"
   ]
  },
  {
   "cell_type": "code",
   "execution_count": 8,
   "metadata": {},
   "outputs": [
    {
     "data": {
      "text/plain": [
       "(128, 64)"
      ]
     },
     "execution_count": 8,
     "metadata": {},
     "output_type": "execute_result"
    }
   ],
   "source": [
    "import math\n",
    "import numpy as np\n",
    "q=2\n",
    "shape=[65,64]\n",
    "size=np.product(shape)\n",
    "D=int(round(math.log( size, q )))\n",
    "new_shape=[q] * D\n",
    "tuple( [ q**(int(math.log(s-0.5,q))+1) for s in shape ] )"
   ]
  },
  {
   "cell_type": "code",
   "execution_count": 9,
   "metadata": {},
   "outputs": [
    {
     "name": "stdout",
     "output_type": "stream",
     "text": [
      "[2, 2, 2, 2, 2, 2, 2, 2, 2, 2, 2, 2]\n"
     ]
    }
   ],
   "source": [
    "print(new_shape)"
   ]
  },
  {
   "cell_type": "code",
   "execution_count": 10,
   "metadata": {},
   "outputs": [],
   "source": [
    "A=np.ones(new_shape)"
   ]
  },
  {
   "cell_type": "code",
   "execution_count": 11,
   "metadata": {},
   "outputs": [],
   "source": [
    "B=np.ones(shape)"
   ]
  },
  {
   "cell_type": "code",
   "execution_count": 12,
   "metadata": {},
   "outputs": [
    {
     "data": {
      "text/plain": [
       "False"
      ]
     },
     "execution_count": 12,
     "metadata": {},
     "output_type": "execute_result"
    }
   ],
   "source": [
    "A.size==B.size"
   ]
  },
  {
   "cell_type": "code",
   "execution_count": 13,
   "metadata": {},
   "outputs": [
    {
     "data": {
      "text/plain": [
       "False"
      ]
     },
     "execution_count": 13,
     "metadata": {},
     "output_type": "execute_result"
    }
   ],
   "source": [
    "(math.log( size, q )).is_integer()"
   ]
  },
  {
   "cell_type": "code",
   "execution_count": null,
   "metadata": {},
   "outputs": [],
   "source": []
  },
  {
   "cell_type": "code",
   "execution_count": 25,
   "metadata": {},
   "outputs": [],
   "source": [
    "from pydecomp.core import QuanticsTT"
   ]
  },
  {
   "cell_type": "code",
   "execution_count": 67,
   "metadata": {},
   "outputs": [
    {
     "name": "stdout",
     "output_type": "stream",
     "text": [
      "reshaping to [8, 8, 8, 8, 8, 8]\n",
      "[1 1 1 1 1 1 1]\n",
      "[1 2 2 2 2 2 1]\n",
      "[1 3 3 3 3 3 1]\n",
      "[1 4 4 4 4 4 1]\n",
      "[1 5 5 5 5 5 1]\n",
      "[1 6 6 6 6 6 1]\n",
      "[1 7 7 7 7 7 1]\n",
      "[1 8 8 8 8 8 1]\n",
      "[1 8 9 9 9 8 1]\n",
      "[ 1  8 10 10 10  8  1]\n",
      "[ 1  8 15 15 15  8  1]\n",
      "[ 1  8 20 20 20  8  1]\n",
      "[ 1  8 25 25 25  8  1]\n",
      "[ 1  8 30 30 30  8  1]\n",
      "[ 1  8 35 35 35  8  1]\n",
      "[ 1  8 40 40 40  8  1]\n",
      "[ 1  8 50 50 50  8  1]\n",
      "[ 1  8 60 60 60  8  1]\n",
      "[ 1  8 64 70 64  8  1]\n",
      "[ 1  8 64 80 64  8  1]\n",
      "[ 1  8 64 90 64  8  1]\n",
      "[  1   8  64 100  64   8   1]\n",
      "[  1   8  64 120  64   8   1]\n",
      "[  1   8  64 133  64   8   1]\n",
      "QuanticsTT\n",
      "ndim=3\n",
      "original_shape=(64, 64, 64)\n",
      "q=8\n",
      "qshape=[8, 8, 8, 8, 8, 8]\n",
      "-------------------------------------------\n",
      "Approx_data rank=\n",
      "[1, 8, 64, 133, 64, 8, 1]\n",
      "\n"
     ]
    },
    {
     "name": "stderr",
     "output_type": "stream",
     "text": [
      "/home/lestandi/Documents/thesis_light/prog/python/python_decomposition_library/pydecomp/analysis/plot.py:177: MatplotlibDeprecationWarning: Adding an axes using the same arguments as a previous axes currently reuses the earlier instance.  In a future version, a new instance will always be created and returned.  Meanwhile, this warning can be suppressed, and the future behavior ensured, by passing a unique label to each axes instance.\n",
      "  ax=fig.add_subplot(111)\n"
     ]
    },
    {
     "data": {
      "image/png": "[encoded data removed]",
      "text/plain": [
       "<Figure size 432x288 with 1 Axes>"
      ]
     },
     "metadata": {
      "needs_background": "light"
     },
     "output_type": "display_data"
    }
   ],
   "source": [
    "QuanticsTT.run_test()"
   ]
  },
  {
   "cell_type": "code",
   "execution_count": null,
   "metadata": {},
   "outputs": [],
   "source": []
  },
  {
   "cell_type": "code",
   "execution_count": null,
   "metadata": {},
   "outputs": [],
   "source": []
  }
 ],
 "metadata": {
  "kernelspec": {
   "display_name": "Python 3",
   "language": "python",
   "name": "python3"
  },
  "language_info": {
   "codemirror_mode": {
    "name": "ipython",
    "version": 3
   },
   "file_extension": ".py",
   "mimetype": "text/x-python",
   "name": "python",
   "nbconvert_exporter": "python",
   "pygments_lexer": "ipython3",
   "version": "3.8.3"
  }
 },
 "nbformat": 4,
 "nbformat_minor": 4
}
