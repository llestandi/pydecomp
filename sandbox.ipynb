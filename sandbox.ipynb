{
 "cells": [
  {
   "cell_type": "raw",
   "metadata": {},
   "source": [
    "import sys\n",
    "!conda install --yes --prefix {sys.prefix} mkl-devel"
   ]
  },
  {
   "cell_type": "raw",
   "metadata": {},
   "source": [
    "# Install a pip package in the current Jupyter kernel\n",
    "import sys\n",
    "!{sys.executable} -m pip install primme"
   ]
  },
  {
   "cell_type": "code",
   "execution_count": 1,
   "metadata": {},
   "outputs": [],
   "source": [
    "#adding pydecomp \n",
    "%load_ext autoreload\n",
    "%autoreload 2\n",
    "import sys\n",
    "sys.path.insert(0, \"/home/lestandi/Documents/thesis_light/prog/python/python_decomposition_library/pydecomp/\")\n",
    "sys.path.insert(0, \"/home/lestandi/Documents/thesis_light/prog/python/python_decomposition_library/pydecomp/core/\")\n",
    "sys.path.insert(0, \"/home/lestandi/Documents/thesis_light/prog/python/python_decomposition_library/pydecomp/utils/\")\n",
    "sys.path.insert(0, \"/home/lestandi/Documents/thesis_light/prog/python/python_decomposition_library/pydecomp/analysis/\")\n",
    "sys.path.insert(0, \"/home/lestandi/Documents/thesis_light/prog/python/python_decomposition_library/pydecomp/\")"
   ]
  },
  {
   "cell_type": "code",
   "execution_count": 2,
   "metadata": {},
   "outputs": [],
   "source": [
    "from pydecomp.core.TSVD import TSVD\n",
    "import numpy as np"
   ]
  },
  {
   "cell_type": "code",
   "execution_count": 3,
   "metadata": {},
   "outputs": [
    {
     "name": "stdout",
     "output_type": "stream",
     "text": [
      "\n",
      " Testing SVD with random matrix\n",
      "\n",
      "\n",
      " --------------SVD by EVD computing time {} 0.11861538887023926\n",
      "r=5\n",
      "sigma[:5]= [[1118.46817961]\n",
      " [  35.17258165]\n",
      " [  35.07453087]\n",
      " [  35.05880554]\n",
      " [  35.00199405]]\n",
      "\n",
      " Should be small : 640.9423209509383\n",
      "Selected PRIMME_SVDS solver. This solver is iterative and best               suited for sparse tall skinny matrices. High accuracy requirement               may lead to intractable CPU times.\n",
      "\n",
      " --------------PRIMME_SVDs computing time {} 0.8108201026916504\n",
      "r=5\n",
      "sigma[:5]= [[1118.46817961]\n",
      " [  35.17258164]\n",
      " [  35.07453073]\n",
      " [  35.05880548]\n",
      " [  35.00199386]]\n",
      "\n",
      " Should be small : 640.9423209728621\n"
     ]
    }
   ],
   "source": [
    "    #test procedure for the standard numpy matrix SVD\n",
    "    from time import time\n",
    "    print(\"\\n Testing SVD with random matrix\\n\")\n",
    "    n,m=10000,500\n",
    "    F=np.random.rand(n,m)\n",
    "    # F=np.reshape(np.arange(n*m),(n,m))\n",
    "\n",
    "    t=time()\n",
    "    phi, sigma, A=TSVD(F,solver='EVD',rank=5)\n",
    "    print('\\n --------------SVD by EVD computing time {}',time()-t)\n",
    "    # print(\"\\nEVD\\n----------- \\nphi :\\n {}\\n sigma:\\n {} \\n A:\\n {}\".format(phi, sigma, A))\n",
    "    r=sigma.size\n",
    "    sigma=np.reshape(sigma,[r,1])\n",
    "    F_approx = phi@(sigma*A.T)\n",
    "    err=np.linalg.norm(F_approx-F)\n",
    "    print(\"r={}\".format(r))\n",
    "    print(\"sigma[:5]=\",sigma[0:5])\n",
    "    print(\"\\n Should be small : {}\".format(err))    \n",
    "    \n",
    "    t=time()\n",
    "    phi, sigma, A=TSVD(F,solver='PRIMME',rank=5,epsilon=1e-6)\n",
    "    print('\\n --------------PRIMME_SVDs computing time {}',time()-t)\n",
    "    # print(\"\\nEVD\\n----------- \\nphi :\\n {}\\n sigma:\\n {} \\n A:\\n {}\".format(phi, sigma, A))\n",
    "    r=sigma.size\n",
    "    sigma=np.reshape(sigma,[r,1])\n",
    "    F_approx = phi@(sigma*A.T)\n",
    "    err=np.linalg.norm(F_approx-F)\n",
    "    print(\"r={}\".format(r))\n",
    "    print(\"sigma[:5]=\",sigma[0:5])\n",
    "    print(\"\\n Should be small : {}\".format(err))"
   ]
  },
  {
   "cell_type": "code",
   "execution_count": 4,
   "metadata": {},
   "outputs": [
    {
     "name": "stdout",
     "output_type": "stream",
     "text": [
      "[1118.46817961   35.17258165   35.07453087   35.05880554   35.00199405]\n",
      "1.6204149723052979 545\n"
     ]
    }
   ],
   "source": [
    "import scipy\n",
    "import primme\n",
    "# Sparse random rectangular matrix 10^5x100\n",
    "#A = scipy.sparse.rand(100000, 100, density=1., random_state=10)\n",
    "#print(A.size)\n",
    "# Compute the three closest singular values to 6.0 with a tolerance of 1e-6\n",
    "svecs_left, svals, svecs_right, stats = primme.svds(F, 5, which='LM',\n",
    "                                                    return_stats=True)\n",
    "A_svals = svals\n",
    "print(svals)\n",
    "print(stats[\"elapsedTime\"], stats[\"numMatvecs\"])"
   ]
  },
  {
   "cell_type": "code",
   "execution_count": 5,
   "metadata": {},
   "outputs": [
    {
     "data": {
      "text/plain": [
       "array([-2.03290250e-15, -2.04123116e-11, -4.10001487e-09, -1.87305872e-09,\n",
       "       -5.45266799e-09])"
      ]
     },
     "execution_count": 5,
     "metadata": {},
     "output_type": "execute_result"
    }
   ],
   "source": [
    "(sigma[:,0]-svals)/sigma[:,0]"
   ]
  },
  {
   "cell_type": "code",
   "execution_count": 6,
   "metadata": {},
   "outputs": [
    {
     "name": "stdout",
     "output_type": "stream",
     "text": [
      "phi orthog test\n",
      "[[ 1.000e+00 -3.463e-15  1.598e-15 -5.601e-15  2.150e-16]\n",
      " [-3.463e-15  1.000e+00  3.710e-14 -2.969e-13  3.306e-14]\n",
      " [ 1.598e-15  3.710e-14  1.000e+00  6.603e-14  1.511e-14]\n",
      " [-5.601e-15 -2.969e-13  6.603e-14  1.000e+00  2.686e-14]\n",
      " [ 2.150e-16  3.306e-14  1.511e-14  2.686e-14  1.000e+00]]\n",
      "svecs orthog test\n",
      "[[ 1.000e+00  1.086e-14  1.810e-14 -2.223e-14 -8.659e-15]\n",
      " [ 1.086e-14  1.000e+00  3.158e-13  2.262e-13  7.401e-14]\n",
      " [ 1.810e-14  3.158e-13  1.000e+00 -2.421e-13  1.374e-13]\n",
      " [-2.223e-14  2.262e-13 -2.421e-13  1.000e+00  4.582e-13]\n",
      " [-8.659e-15  7.401e-14  1.374e-13  4.582e-13  1.000e+00]]\n",
      "v orthog test\n",
      "[[ 1.000e+00 -2.429e-16 -4.857e-17 -1.908e-16  1.908e-16]\n",
      " [-2.429e-16  1.000e+00  7.910e-16 -1.131e-15 -1.128e-16]\n",
      " [-4.857e-17  7.910e-16  1.000e+00  7.806e-17  2.144e-15]\n",
      " [-1.908e-16 -1.131e-15  7.806e-17  1.000e+00 -4.476e-16]\n",
      " [ 1.908e-16 -1.128e-16  2.144e-15 -4.476e-16  1.000e+00]]\n",
      "svecs orthog test\n",
      "[[ 1.000e+00  1.874e-16  4.562e-16 -5.690e-16 -3.556e-16]\n",
      " [ 1.874e-16  1.000e+00  3.920e-16 -5.729e-16  4.146e-16]\n",
      " [ 4.562e-16  3.920e-16  1.000e+00 -1.631e-16 -9.576e-16]\n",
      " [-5.690e-16 -5.729e-16 -1.631e-16  1.000e+00  1.871e-15]\n",
      " [-3.556e-16  4.146e-16 -9.576e-16  1.871e-15  1.000e+00]]\n"
     ]
    }
   ],
   "source": [
    "np.set_printoptions(precision=3)\n",
    "print(\"phi orthog test\")\n",
    "print(phi.T@phi)\n",
    "print(\"svecs orthog test\")\n",
    "print(svecs_left.T@svecs_left)\n",
    "\n",
    "print(\"v orthog test\")\n",
    "print(A.T@A)\n",
    "print(\"svecs orthog test\")\n",
    "print(svecs_right@svecs_right.T)"
   ]
  },
  {
   "cell_type": "code",
   "execution_count": 7,
   "metadata": {},
   "outputs": [
    {
     "data": {
      "text/plain": [
       "(128, 64)"
      ]
     },
     "execution_count": 7,
     "metadata": {},
     "output_type": "execute_result"
    }
   ],
   "source": [
    "import math\n",
    "import numpy as np\n",
    "q=2\n",
    "shape=[65,64]\n",
    "size=np.product(shape)\n",
    "D=int(round(math.log( size, q )))\n",
    "new_shape=[q] * D\n",
    "tuple( [ q**(int(math.log(s-0.5,q))+1) for s in shape ] )"
   ]
  },
  {
   "cell_type": "code",
   "execution_count": 8,
   "metadata": {},
   "outputs": [
    {
     "name": "stdout",
     "output_type": "stream",
     "text": [
      "[2, 2, 2, 2, 2, 2, 2, 2, 2, 2, 2, 2]\n"
     ]
    }
   ],
   "source": [
    "print(new_shape)"
   ]
  },
  {
   "cell_type": "code",
   "execution_count": 9,
   "metadata": {},
   "outputs": [],
   "source": [
    "A=np.ones(new_shape)"
   ]
  },
  {
   "cell_type": "code",
   "execution_count": 10,
   "metadata": {},
   "outputs": [],
   "source": [
    "B=np.ones(shape)"
   ]
  },
  {
   "cell_type": "code",
   "execution_count": 11,
   "metadata": {},
   "outputs": [
    {
     "data": {
      "text/plain": [
       "False"
      ]
     },
     "execution_count": 11,
     "metadata": {},
     "output_type": "execute_result"
    }
   ],
   "source": [
    "A.size==B.size"
   ]
  },
  {
   "cell_type": "code",
   "execution_count": 12,
   "metadata": {},
   "outputs": [
    {
     "data": {
      "text/plain": [
       "False"
      ]
     },
     "execution_count": 12,
     "metadata": {},
     "output_type": "execute_result"
    }
   ],
   "source": [
    "(math.log( size, q )).is_integer()"
   ]
  },
  {
   "cell_type": "code",
   "execution_count": null,
   "metadata": {},
   "outputs": [],
   "source": []
  },
  {
   "cell_type": "code",
   "execution_count": 13,
   "metadata": {},
   "outputs": [],
   "source": [
    "from pydecomp.core import QuanticsTT"
   ]
  },
  {
   "cell_type": "code",
   "execution_count": 14,
   "metadata": {},
   "outputs": [
    {
     "name": "stdout",
     "output_type": "stream",
     "text": [
      "reshaping to [2, 2, 2, 2, 2, 2, 2, 2, 2, 2, 2, 2, 2, 2, 2, 2, 2, 2]\n",
      "[1 1 1 1 1 1 1 1 1 1 1 1 1 1 1 1 1 1 1]\n",
      "[1 2 2 2 2 2 2 2 2 2 2 2 2 2 2 2 2 2 1]\n",
      "[1 2 3 3 3 3 3 3 3 3 3 3 3 3 3 3 3 2 1]\n",
      "[1 2 4 4 4 4 4 4 4 4 4 4 4 4 4 4 4 2 1]\n",
      "[1 2 4 5 5 5 5 5 5 5 5 5 5 5 5 5 4 2 1]\n",
      "[1 2 4 6 6 6 6 6 6 6 6 6 6 6 6 6 4 2 1]\n",
      "[1 2 4 7 7 7 7 7 7 7 7 7 7 7 7 7 4 2 1]\n",
      "[1 2 4 8 8 8 8 8 8 8 8 8 8 8 8 8 4 2 1]\n",
      "[1 2 4 8 9 9 9 9 9 9 9 9 9 9 9 8 4 2 1]\n",
      "[ 1  2  4  8 10 10 10 10 10 10 10 10 10 10 10  8  4  2  1]\n",
      "[ 1  2  4  8 15 15 15 15 15 15 15 15 15 15 15  8  4  2  1]\n",
      "[ 1  2  4  8 16 20 20 20 20 20 20 20 20 20 16  8  4  2  1]\n",
      "[ 1  2  4  8 16 25 25 25 25 25 25 25 25 25 16  8  4  2  1]\n",
      "[ 1  2  4  8 16 30 30 30 30 30 30 30 30 30 16  8  4  2  1]\n",
      "[ 1  2  4  8 16 32 35 35 35 35 35 35 35 32 16  8  4  2  1]\n",
      "[ 1  2  4  8 16 32 40 40 40 40 40 40 40 32 16  8  4  2  1]\n",
      "[ 1  2  4  8 16 32 50 50 50 50 50 50 50 32 16  8  4  2  1]\n",
      "[ 1  2  4  8 16 32 60 60 60 60 60 60 60 32 16  8  4  2  1]\n",
      "[ 1  2  4  8 16 32 64 70 70 70 70 70 64 32 16  8  4  2  1]\n",
      "[ 1  2  4  8 16 32 64 80 80 80 80 80 64 32 16  8  4  2  1]\n",
      "[ 1  2  4  8 16 32 64 90 90 90 90 90 64 32 16  8  4  2  1]\n",
      "[  1   2   4   8  16  32  64 100 100 100 100 100  64  32  16   8   4   2\n",
      "   1]\n",
      "[  1   2   4   8  16  32  64 120 120 120 120 120  64  32  16   8   4   2\n",
      "   1]\n",
      "[  1   2   4   8  16  32  64 128 140 140 140 128  64  32  16   8   4   2\n",
      "   1]\n",
      "[  1   2   4   8  16  32  64 128 160 160 160 128  64  32  16   8   4   2\n",
      "   1]\n",
      "[  1   2   4   8  16  32  64 128 180 180 180 128  64  32  16   8   4   2\n",
      "   1]\n",
      "[  1   2   4   8  16  32  64 128 200 200 200 128  64  32  16   8   4   2\n",
      "   1]\n",
      "[  1   2   4   8  16  32  64 128 220 220 220 128  64  32  16   8   4   2\n",
      "   1]\n",
      "[  1   2   4   8  16  32  64 128 240 240 240 128  64  32  16   8   4   2\n",
      "   1]\n",
      "[  1   2   4   8  16  32  64 128 256 260 256 128  64  32  16   8   4   2\n",
      "   1]\n",
      "[  1   2   4   8  16  32  64 128 256 280 256 128  64  32  16   8   4   2\n",
      "   1]\n",
      "[  1   2   4   8  16  32  64 128 256 300 256 128  64  32  16   8   4   2\n",
      "   1]\n",
      "[  1   2   4   8  16  32  64 128 256 350 256 128  64  32  16   8   4   2\n",
      "   1]\n",
      "[  1   2   4   8  16  32  64 128 256 400 256 128  64  32  16   8   4   2\n",
      "   1]\n",
      "[  1   2   4   8  16  32  64 128 256 450 256 128  64  32  16   8   4   2\n",
      "   1]\n",
      "[  1   2   4   8  16  32  64 128 256 500 256 128  64  32  16   8   4   2\n",
      "   1]\n",
      "QuanticsTT\n",
      "ndim=3\n",
      "original_shape=(64, 64, 64)\n",
      "q=2\n",
      "qshape=[2, 2, 2, 2, 2, 2, 2, 2, 2, 2, 2, 2, 2, 2, 2, 2, 2, 2]\n",
      "-------------------------------------------\n",
      "Approx_data rank=\n",
      "[1, 2, 4, 8, 16, 32, 64, 128, 256, 500, 256, 128, 64, 32, 16, 8, 4, 2, 1]\n",
      "\n"
     ]
    },
    {
     "name": "stderr",
     "output_type": "stream",
     "text": [
      "/home/lestandi/Documents/thesis_light/prog/python/python_decomposition_library/pydecomp/analysis/plot.py:177: MatplotlibDeprecationWarning: Adding an axes using the same arguments as a previous axes currently reuses the earlier instance.  In a future version, a new instance will always be created and returned.  Meanwhile, this warning can be suppressed, and the future behavior ensured, by passing a unique label to each axes instance.\n",
      "  ax=fig.add_subplot(111)\n",
      "findfont: Font family ['normal'] not found. Falling back to DejaVu Sans.\n"
     ]
    },
    {
     "data": {
      "image/png": "[encoded data removed]",
      "text/plain": [
       "<Figure size 432x288 with 1 Axes>"
      ]
     },
     "metadata": {
      "needs_background": "light"
     },
     "output_type": "display_data"
    }
   ],
   "source": [
    "QuanticsTT.run_test()"
   ]
  },
  {
   "cell_type": "code",
   "execution_count": 15,
   "metadata": {},
   "outputs": [],
   "source": [
    "qA = QuanticsTT.QuanticsTensor(np.ones((64,64)))"
   ]
  },
  {
   "cell_type": "code",
   "execution_count": 16,
   "metadata": {},
   "outputs": [
    {
     "data": {
      "text/plain": [
       "True"
      ]
     },
     "execution_count": 16,
     "metadata": {},
     "output_type": "execute_result"
    }
   ],
   "source": [
    "type(qA)==QuanticsTT.QuanticsTensor"
   ]
  },
  {
   "cell_type": "markdown",
   "metadata": {},
   "source": [
    "## Benchmarking QTT\n",
    "Comparing QTT against standard 2D decomposition methods for separable functions produces intersting results. The approximation accuracy is slightly lower for fixed range because of what I would call edge effect. On the other hand for space size larger than $2^{10}$, the decomposition becomes faster, by orders of magnitude and the compression rate extremely small (as shown below). Typicall compression values are in $O(10^{-5})$ for $\\varepsilon = 10^{-3}$."
   ]
  },
  {
   "cell_type": "code",
   "execution_count": 31,
   "metadata": {},
   "outputs": [
    {
     "name": "stdout",
     "output_type": "stream",
     "text": [
      "8192\n",
      "reshaping to [2, 2, 2, 2, 2, 2, 2, 2, 2, 2, 2, 2, 2, 2, 2, 2, 2, 2, 2, 2, 2, 2, 2, 2, 2]\n",
      "[1 1 1 1 1 1 1 1 1 1 1 1 1 1 1 1 1 1 1 1 1 1 1 1 1 1]\n",
      "[1 2 2 2 2 2 2 2 2 2 2 2 2 2 2 2 2 2 2 2 2 2 2 2 2 1]\n",
      "[1 2 3 3 3 3 3 3 3 3 3 3 3 3 3 3 3 3 3 3 3 3 3 2 2 1]\n",
      "[1 2 4 4 4 4 4 4 4 4 4 4 4 4 4 4 4 3 3 3 3 3 3 2 2 1]\n",
      "QTT_SVD decompostion time: 2.67 s\n",
      "(array([5.193e-02, 6.411e-03, 2.252e-04, 2.128e-05]), array([1.490e-06, 5.722e-06, 1.192e-05, 1.806e-05]))\n",
      "SVD_by_EVD decompostion time: 12.37 s\n",
      "4 8192 4096\n",
      "{'QTT_SVD': array([5.193e-02, 6.411e-03, 2.252e-04, 2.128e-05]), 'SVD_by_EVD': array([2.379e-02, 4.509e-04, 8.259e-06, 1.499e-07])}\n"
     ]
    },
    {
     "name": "stderr",
     "output_type": "stream",
     "text": [
      "/home/lestandi/Documents/thesis_light/prog/python/python_decomposition_library/pydecomp/analysis/plot.py:115: MatplotlibDeprecationWarning: Adding an axes using the same arguments as a previous axes currently reuses the earlier instance.  In a future version, a new instance will always be created and returned.  Meanwhile, this warning can be suppressed, and the future behavior ensured, by passing a unique label to each axes instance.\n",
      "  ax=fig.add_subplot(111)\n",
      "/home/lestandi/Documents/thesis_light/prog/python/python_decomposition_library/pydecomp/analysis/plot.py:115: MatplotlibDeprecationWarning: Adding an axes using the same arguments as a previous axes currently reuses the earlier instance.  In a future version, a new instance will always be created and returned.  Meanwhile, this warning can be suppressed, and the future behavior ensured, by passing a unique label to each axes instance.\n",
      "  ax=fig.add_subplot(111)\n"
     ]
    },
    {
     "data": {
      "image/png": "[encoded data removed]",
      "text/plain": [
       "<Figure size 504x432 with 1 Axes>"
      ]
     },
     "metadata": {
      "needs_background": "light"
     },
     "output_type": "display_data"
    }
   ],
   "source": [
    "from analysis.benchmark_2D import benchmark_2D\n",
    "decomp_methods=[\"QTT_SVD\",\"SVD_by_EVD\"]\n",
    "N=2**13\n",
    "print(N)\n",
    "benchmark_2D(decomp_methods ,shape=[N,N//2], test_function=1, plot=True,\n",
    "                plot_name='',tol=1e-8)"
   ]
  },
  {
   "cell_type": "markdown",
   "metadata": {},
   "source": [
    "## Next development step\n",
    " - test QTT agains other high order decomposition methods\n",
    " - Include $L_1$, $L_2$ and $L_\\infty$ norms as per requested\n",
    " - find and external library to test HT. probably no time, nor point in conding HT"
   ]
  },
  {
   "cell_type": "code",
   "execution_count": null,
   "metadata": {},
   "outputs": [],
   "source": []
  },
  {
   "cell_type": "code",
   "execution_count": null,
   "metadata": {},
   "outputs": [],
   "source": []
  }
 ],
 "metadata": {
  "kernelspec": {
   "display_name": "Python 3",
   "language": "python",
   "name": "python3"
  },
  "language_info": {
   "codemirror_mode": {
    "name": "ipython",
    "version": 3
   },
   "file_extension": ".py",
   "mimetype": "text/x-python",
   "name": "python",
   "nbconvert_exporter": "python",
   "pygments_lexer": "ipython3",
   "version": "3.8.3"
  }
 },
 "nbformat": 4,
 "nbformat_minor": 4
}
